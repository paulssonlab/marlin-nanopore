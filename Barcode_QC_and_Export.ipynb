{
 "cells": [
  {
   "cell_type": "markdown",
   "metadata": {},
   "source": [
    "### Import Modules"
   ]
  },
  {
   "cell_type": "code",
   "execution_count": 1,
   "metadata": {},
   "outputs": [
    {
     "name": "stderr",
     "output_type": "stream",
     "text": [
      "/tmp/ipykernel_1695/490426756.py:12: DeprecationWarning: The current Dask DataFrame implementation is deprecated. \n",
      "In a future release, Dask DataFrame will use new implementation that\n",
      "contains several improvements including a logical query planning.\n",
      "The user-facing DataFrame API will remain unchanged.\n",
      "\n",
      "The new implementation is already available and can be enabled by\n",
      "installing the dask-expr library:\n",
      "\n",
      "    $ pip install dask-expr\n",
      "\n",
      "and turning the query planning option on:\n",
      "\n",
      "    >>> import dask\n",
      "    >>> dask.config.set({'dataframe.query-planning': True})\n",
      "    >>> import dask.dataframe as dd\n",
      "\n",
      "API documentation for the new implementation is available at\n",
      "https://docs.dask.org/en/stable/dask-expr-api.html\n",
      "\n",
      "Any feedback can be reported on the Dask issue tracker\n",
      "https://github.com/dask/dask/issues \n",
      "\n",
      "  import dask.dataframe as dd\n",
      "/tmp/ipykernel_1695/490426756.py:20: DeprecationWarning: Importing display from IPython.core.display is deprecated since IPython 7.14, please import from IPython display\n",
      "  from IPython.core.display import display, HTML\n"
     ]
    }
   ],
   "source": [
    "import os\n",
    "import shutil\n",
    "import csv\n",
    "import ast\n",
    "import re\n",
    "import yaml\n",
    "\n",
    "import numpy as np\n",
    "import pandas as pd\n",
    "import seaborn as sns\n",
    "import dask.array as da\n",
    "import dask.dataframe as dd\n",
    "import pickle as pkl\n",
    "\n",
    "from Bio import SeqIO\n",
    "from Bio.Seq import Seq\n",
    "from time import sleep\n",
    "from dask.distributed import Client\n",
    "from dask_jobqueue import SLURMCluster\n",
    "from IPython.core.display import display, HTML\n",
    "\n",
    "from matplotlib import pyplot as plt"
   ]
  },
  {
   "cell_type": "markdown",
   "metadata": {},
   "source": [
    "### Define Functions"
   ]
  },
  {
   "cell_type": "code",
   "execution_count": 2,
   "metadata": {},
   "outputs": [],
   "source": [
    "def align_read(querystr,cigarstr,pattern=re.compile(\"[0-9]{0,10}[MDI]\")):\n",
    "    result = pattern.finditer(cigarstr)\n",
    "    cigar_seq = [(item.group(0)[-1],int(item.group(0)[:-1])) for item in result]\n",
    "    output_str = \"\"\n",
    "    current_idx = 0\n",
    "    for item in cigar_seq:\n",
    "        if item[0]==\"M\":\n",
    "            added_str = querystr[current_idx:current_idx+item[1]]\n",
    "            output_str += added_str\n",
    "            current_idx += item[1]\n",
    "        elif item[0]==\"D\":\n",
    "            added_str = \"\".join([\"-\" for i in range(item[1])])\n",
    "            output_str += added_str\n",
    "        elif item[0]==\"I\":\n",
    "            current_idx += item[1]\n",
    "    return output_str\n",
    "\n",
    "def cigarsfromsam(samfilepath):\n",
    "    cigars = {}\n",
    "    with open(samfilepath,\"r\") as samfile:\n",
    "        for line in samfile:\n",
    "            if line[0]==\"@\":\n",
    "                next(samfile)\n",
    "            else:\n",
    "                splitline = line.split(\"\\t\")\n",
    "                cigars[splitline[0]] = splitline[5]\n",
    "    return cigars\n",
    "\n",
    "def strsfromfasta(fastafilepath):\n",
    "    queries = SeqIO.to_dict(SeqIO.parse(fastafilepath,\"fasta\"))\n",
    "    queries = {key: str(val.seq) for key,val in queries.items()}\n",
    "    return queries\n",
    "\n",
    "def make_seg_dict(gfafile):\n",
    "    segment_dict = {}\n",
    "    with open(gfafile,\"r\") as infile:\n",
    "        for line in infile:\n",
    "            if line[0] == \"S\":\n",
    "                splitline = line.split(\"\\t\")\n",
    "                segment_dict[splitline[1]] = splitline[2][:-1]\n",
    "    return segment_dict\n",
    "\n",
    "def get_ref_intervals(gfafile):\n",
    "    segment_dict = {}\n",
    "    current_idx = 0\n",
    "    with open(gfafile,\"r\") as infile:\n",
    "        for line in infile:\n",
    "            if line[0] == \"S\":\n",
    "                splitline = line.split(\"\\t\")\n",
    "                if \"OFF\" not in splitline[1]:\n",
    "                    refstr = splitline[2][:-1]\n",
    "                    strlen = len(refstr)\n",
    "                    name = splitline[1]\n",
    "                    if \"ON\" in name:\n",
    "                        name=name[:-2]\n",
    "                    segment_dict[name] = tuple((current_idx,current_idx+strlen))\n",
    "                    current_idx += strlen\n",
    "    return segment_dict\n",
    "    \n",
    "def align_read(querystr,refstr,cigarstr,startpos=1,pattern=re.compile(\"[0-9]{0,10}[MDI]\")):\n",
    "    start_pos = startpos-1 ##comes as 1 indexed from minimap\n",
    "    result = pattern.finditer(cigarstr)\n",
    "    cigar_seq = [(item.group(0)[-1],int(item.group(0)[:-1])) for item in result]\n",
    "    output_str = \"\"\n",
    "    if start_pos > 0:\n",
    "        output_str += \"\".join([\"-\" for i in range(start_pos)])\n",
    "    current_idx = 0\n",
    "    for item in cigar_seq:\n",
    "        if item[0]==\"M\":\n",
    "            added_str = querystr[current_idx:current_idx+item[1]]\n",
    "            output_str += added_str\n",
    "            current_idx += item[1]\n",
    "        elif item[0]==\"D\":\n",
    "            added_str = \"\".join([\"-\" for i in range(item[1])])\n",
    "            output_str += added_str\n",
    "        elif item[0]==\"I\":\n",
    "            current_idx += item[1]\n",
    "    remaining_len = len(refstr)-len(output_str)\n",
    "    if remaining_len>0:\n",
    "        output_str += \"\".join([\"-\" for i in range(remaining_len)])\n",
    "    return output_str\n",
    "\n",
    "def splitstr(instr,ref_intervals):    \n",
    "    strassign = {key:instr[val[0]:val[1]] for key,val in ref_intervals.items()}\n",
    "    return strassign\n",
    "\n",
    "def slow_hamming_distance(s1, s2):\n",
    "    if len(s1) != len(s2):\n",
    "        print(s1,s2)\n",
    "        raise ValueError(\"Strand lengths are not equal!\")\n",
    "    term_list = []\n",
    "    for ch1,ch2 in zip(s1,s2):\n",
    "        if ch1 == \"N\" or ch2 == \"N\":\n",
    "            term_list.append(False)\n",
    "        else:\n",
    "            term_list.append(ch1 != ch2)\n",
    "    result = sum(term_list)\n",
    "    return result\n",
    "\n",
    "def get_dict_dist(dict1,dict2):\n",
    "    hamming_dict = {key:slow_hamming_distance(dict1[key],dict2[key]) for key in dict1.keys()}\n",
    "    return hamming_dict\n",
    "\n",
    "def writedir(directory,overwrite=False):\n",
    "    if overwrite:\n",
    "        if os.path.exists(directory):\n",
    "            shutil.rmtree(directory)\n",
    "        os.makedirs(directory)\n",
    "    else:\n",
    "        if not os.path.exists(directory):\n",
    "            os.makedirs(directory)\n",
    "\n",
    "### dask controller adapted from https://github.com/paulssonlab/TrenchRipper\n",
    "class tr_dask_controller:\n",
    "    def __init__(self,n_workers=6,local=True,queue=\"short\",death_timeout=3.,\\\n",
    "                 walltime='01:30:00',cores=1,processes=1,memory='6GB',\\\n",
    "                 working_directory=\"./\",job_extra=[]):\n",
    "        self.local = local\n",
    "        self.n_workers = n_workers\n",
    "        self.walltime = walltime\n",
    "        self.queue = queue\n",
    "        self.death_timeout = death_timeout\n",
    "        self.processes = processes\n",
    "        self.memory = memory\n",
    "        self.cores = cores\n",
    "        self.working_directory = working_directory\n",
    "        self.job_extra = job_extra\n",
    "\n",
    "        writedir(working_directory,overwrite=False)\n",
    "\n",
    "    def startdask(self):\n",
    "        if self.local:\n",
    "            self.daskclient = Client()\n",
    "            self.daskclient.cluster.scale(self.n_workers)\n",
    "        else:\n",
    "            self.daskcluster = SLURMCluster(n_workers=self.n_workers,queue=self.queue,death_timeout=self.death_timeout,walltime=self.walltime,\\\n",
    "                                   processes=self.processes,memory=self.memory,\\\n",
    "                                  cores=self.cores,local_directory=self.working_directory,\\\n",
    "                                log_directory=self.working_directory,job_extra=self.job_extra)\n",
    "            self.daskclient = Client(self.daskcluster)\n",
    "\n",
    "    def shutdown(self):\n",
    "        self.daskclient.restart()\n",
    "        if not self.local:\n",
    "            self.daskcluster.close()\n",
    "        for item in os.listdir(self.working_directory):\n",
    "            if \"worker-\" in item or \"slurm-\" in item or \".lock\" in item:\n",
    "                path = \"./\" + item\n",
    "                if os.path.isfile(path):\n",
    "                    os.remove(path)\n",
    "                elif os.path.isdir(path):\n",
    "                    shutil.rmtree(path)\n",
    "\n",
    "    def printprogress(self):\n",
    "        complete = len([item for item in self.futures if item.status==\"finished\"])\n",
    "        print(str(complete) + \"/\" + str(len(self.futures)))\n",
    "\n",
    "    def displaydashboard(self):\n",
    "        link = self.daskcluster.dashboard_link\n",
    "        display(HTML('<a href=\"' + link +'\">Dashboard</a>'))\n",
    "\n",
    "    def mapfovs(self,function,fov_list,retries=0):\n",
    "        self.function = function\n",
    "        self.retries = retries\n",
    "        def mapallfovs(fov_number,function=function):\n",
    "            function(fov_number)\n",
    "        self.futures = {}\n",
    "        for fov in fov_list:\n",
    "            future = self.daskclient.submit(mapallfovs,fov,retries=retries)\n",
    "            self.futures[fov] = future\n",
    "\n",
    "    def retry_failed(self):\n",
    "        self.failed_fovs = [fov for fov,future in self.futures.items() if future.status != 'finished']\n",
    "        out = self.daskclient.restart()\n",
    "        self.mapfovs(self.function,self.failed_fovs,retries=self.retries)\n",
    "\n",
    "    def retry_processing(self):\n",
    "        self.proc_fovs = [fov for fov,future in self.futures.items() if future.status == 'pending']\n",
    "        out = self.daskclient.restart()\n",
    "        self.mapfovs(self.function,self.proc_fovs,retries=self.retries)"
   ]
  },
  {
   "cell_type": "markdown",
   "metadata": {},
   "source": [
    "## Output Sequencing QC"
   ]
  },
  {
   "cell_type": "markdown",
   "metadata": {},
   "source": [
    "### Import Snakemake Output"
   ]
  },
  {
   "cell_type": "code",
   "execution_count": 3,
   "metadata": {},
   "outputs": [],
   "source": [
    "sequencing_path = \"/home/de64/scratch/de64/sync_folder/2023-03-10_lDE26_Nanopore\"\n",
    "sequencing_output_path = sequencing_path + \"/output.tsv\"\n",
    "\n",
    "scratch_directory = \"/home/de64/scratch/de64\"\n",
    "dask_working_path = scratch_directory + \"/dask\"\n",
    "\n",
    "snakemake_folder_path = \"./\"\n",
    "reference_gfa_path = \"./reference_sequences/lDE26.gfa\"\n",
    "library_design_path = \"./library_design/lDE20_Design.tsv\"\n",
    "config_path = \"./configs/lDE26_Sequencing_config.yaml\"\n",
    "snakemake_QC_outputs_path = snakemake_folder_path + \"QC_outputs\"\n",
    "\n",
    "if not os.path.exists(snakemake_QC_outputs_path):\n",
    "    os.makedirs(snakemake_QC_outputs_path)\n",
    "\n",
    "if not os.path.exists(dask_working_path):\n",
    "    os.makedirs(dask_working_path)\n",
    "\n",
    "with open(config_path, 'r') as f:\n",
    "    config_data = yaml.full_load(f)\n",
    "\n",
    "sequencing_output_df = pd.read_csv(sequencing_output_path,delimiter=\"\\t\")\n",
    "sequencing_output_df = sequencing_output_df.drop(columns=[\"Unnamed: 0\"])\n",
    "ref_intervals = get_ref_intervals(reference_gfa_path)\n",
    "\n",
    "## computing barcode bit frequencies\n",
    "barcodes = set(sequencing_output_df[\"barcode\"].tolist())\n",
    "bit_arr = np.array([list(item) for item in barcodes]).astype('uint8')\n",
    "bit_freq = np.mean(bit_arr,axis=0)\n",
    "n_barcodes_ttl = len(barcodes)"
   ]
  },
  {
   "cell_type": "markdown",
   "metadata": {},
   "source": [
    "### Export Bit Frequencies"
   ]
  },
  {
   "cell_type": "code",
   "execution_count": 4,
   "metadata": {},
   "outputs": [
    {
     "data": {
      "image/png": "[encoded data removed]",
      "text/plain": [
       "<Figure size 1600x600 with 1 Axes>"
      ]
     },
     "metadata": {},
     "output_type": "display_data"
    }
   ],
   "source": [
    "fig = plt.figure(figsize=(16, 6))\n",
    "sns.barplot(x=list(range(len(bit_freq))), y=bit_freq, color=\"grey\")\n",
    "plt.xlabel(\"Bit Number\",fontsize=20)\n",
    "plt.ylabel(\"Percent Positive\",fontsize=20)\n",
    "plt.xticks(fontsize=16)\n",
    "plt.yticks(fontsize=16)\n",
    "plt.savefig(snakemake_QC_outputs_path + \"/Bit_Frequencies.png\",dpi=300,bbox_inches=\"tight\")\n",
    "plt.show()"
   ]
  },
  {
   "cell_type": "code",
   "execution_count": 5,
   "metadata": {},
   "outputs": [
    {
     "name": "stdout",
     "output_type": "stream",
     "text": [
      "Number of Barcodes: 15020\n"
     ]
    }
   ],
   "source": [
    "print(\"Number of Barcodes: \" + str(n_barcodes_ttl))"
   ]
  },
  {
   "cell_type": "markdown",
   "metadata": {},
   "source": [
    "### Quantify Nearest Hamming Distances"
   ]
  },
  {
   "cell_type": "code",
   "execution_count": 6,
   "metadata": {
    "tags": []
   },
   "outputs": [
    {
     "name": "stderr",
     "output_type": "stream",
     "text": [
      "/home/de64/micromamba/envs/crispri/lib/python3.11/site-packages/dask_jobqueue/core.py:255: FutureWarning: job_extra has been renamed to job_extra_directives. You are still using it (even if only set to []; please also check config files). If you did not set job_extra_directives yet, job_extra will be respected for now, but it will be removed in a future release. If you already set job_extra_directives, job_extra is ignored and you can remove it.\n",
      "  warnings.warn(warn, FutureWarning)\n",
      "/home/de64/micromamba/envs/crispri/lib/python3.11/site-packages/dask_jobqueue/core.py:255: FutureWarning: job_extra has been renamed to job_extra_directives. You are still using it (even if only set to []; please also check config files). If you did not set job_extra_directives yet, job_extra will be respected for now, but it will be removed in a future release. If you already set job_extra_directives, job_extra is ignored and you can remove it.\n",
      "  warnings.warn(warn, FutureWarning)\n",
      "2024-09-17 16:49:26,564 - distributed.scheduler - ERROR - 1/7 nanny worker(s) did not shut down within 120s\n",
      "Traceback (most recent call last):\n",
      "  File \"/home/de64/micromamba/envs/crispri/lib/python3.11/site-packages/distributed/utils.py\", line 832, in wrapper\n",
      "    return await func(*args, **kwargs)\n",
      "           ^^^^^^^^^^^^^^^^^^^^^^^^^^^\n",
      "  File \"/home/de64/micromamba/envs/crispri/lib/python3.11/site-packages/distributed/scheduler.py\", line 6193, in restart\n",
      "    raise TimeoutError(\n",
      "TimeoutError: 1/7 nanny worker(s) did not shut down within 120s\n",
      "2024-09-17 16:49:26,568 - distributed.core - ERROR - Exception while handling op restart\n",
      "Traceback (most recent call last):\n",
      "  File \"/home/de64/micromamba/envs/crispri/lib/python3.11/site-packages/distributed/core.py\", line 970, in _handle_comm\n",
      "    result = await result\n",
      "             ^^^^^^^^^^^^\n",
      "  File \"/home/de64/micromamba/envs/crispri/lib/python3.11/site-packages/distributed/utils.py\", line 832, in wrapper\n",
      "    return await func(*args, **kwargs)\n",
      "           ^^^^^^^^^^^^^^^^^^^^^^^^^^^\n",
      "  File \"/home/de64/micromamba/envs/crispri/lib/python3.11/site-packages/distributed/scheduler.py\", line 6193, in restart\n",
      "    raise TimeoutError(\n",
      "TimeoutError: 1/7 nanny worker(s) did not shut down within 120s\n",
      "2024-09-17 16:50:14,653 - distributed.scheduler - ERROR - 6/6 nanny worker(s) did not shut down within 120s\n",
      "Traceback (most recent call last):\n",
      "  File \"/home/de64/micromamba/envs/crispri/lib/python3.11/site-packages/distributed/utils.py\", line 832, in wrapper\n",
      "    return await func(*args, **kwargs)\n",
      "           ^^^^^^^^^^^^^^^^^^^^^^^^^^^\n",
      "  File \"/home/de64/micromamba/envs/crispri/lib/python3.11/site-packages/distributed/scheduler.py\", line 6193, in restart\n",
      "    raise TimeoutError(\n",
      "TimeoutError: 6/6 nanny worker(s) did not shut down within 120s\n",
      "2024-09-17 16:50:14,656 - distributed.core - ERROR - Exception while handling op restart\n",
      "Traceback (most recent call last):\n",
      "  File \"/home/de64/micromamba/envs/crispri/lib/python3.11/site-packages/distributed/core.py\", line 970, in _handle_comm\n",
      "    result = await result\n",
      "             ^^^^^^^^^^^^\n",
      "  File \"/home/de64/micromamba/envs/crispri/lib/python3.11/site-packages/distributed/utils.py\", line 832, in wrapper\n",
      "    return await func(*args, **kwargs)\n",
      "           ^^^^^^^^^^^^^^^^^^^^^^^^^^^\n",
      "  File \"/home/de64/micromamba/envs/crispri/lib/python3.11/site-packages/distributed/scheduler.py\", line 6193, in restart\n",
      "    raise TimeoutError(\n",
      "TimeoutError: 6/6 nanny worker(s) did not shut down within 120s\n"
     ]
    }
   ],
   "source": [
    "dask_controller = tr_dask_controller(\n",
    "    walltime=\"02:00:00\",\n",
    "    local=False,\n",
    "    n_workers=40,\n",
    "    memory=\"16GB\",\n",
    "    working_directory= dask_working_path,\n",
    ")\n",
    "\n",
    "dask_controller.startdask()"
   ]
  },
  {
   "cell_type": "code",
   "execution_count": 7,
   "metadata": {
    "tags": []
   },
   "outputs": [
    {
     "data": {
      "text/html": [
       "<div>\n",
       "    <div style=\"width: 24px; height: 24px; background-color: #e1e1e1; border: 3px solid #9D9D9D; border-radius: 5px; position: absolute;\"> </div>\n",
       "    <div style=\"margin-left: 48px;\">\n",
       "        <h3 style=\"margin-bottom: 0px;\">Client</h3>\n",
       "        <p style=\"color: #9D9D9D; margin-bottom: 0px;\">Client-8960b6db-7534-11ef-869f-f8cab875e601</p>\n",
       "        <table style=\"width: 100%; text-align: left;\">\n",
       "\n",
       "        <tr>\n",
       "        \n",
       "            <td style=\"text-align: left;\"><strong>Connection method:</strong> Cluster object</td>\n",
       "            <td style=\"text-align: left;\"><strong>Cluster type:</strong> dask_jobqueue.SLURMCluster</td>\n",
       "        \n",
       "        </tr>\n",
       "\n",
       "        \n",
       "            <tr>\n",
       "                <td style=\"text-align: left;\">\n",
       "                    <strong>Dashboard: </strong> <a href=\"http://10.120.16.92:8787/status\" target=\"_blank\">http://10.120.16.92:8787/status</a>\n",
       "                </td>\n",
       "                <td style=\"text-align: left;\"></td>\n",
       "            </tr>\n",
       "        \n",
       "\n",
       "        </table>\n",
       "\n",
       "        \n",
       "\n",
       "        \n",
       "            <details>\n",
       "            <summary style=\"margin-bottom: 20px;\"><h3 style=\"display: inline;\">Cluster Info</h3></summary>\n",
       "            <div class=\"jp-RenderedHTMLCommon jp-RenderedHTML jp-mod-trusted jp-OutputArea-output\">\n",
       "    <div style=\"width: 24px; height: 24px; background-color: #e1e1e1; border: 3px solid #9D9D9D; border-radius: 5px; position: absolute;\">\n",
       "    </div>\n",
       "    <div style=\"margin-left: 48px;\">\n",
       "        <h3 style=\"margin-bottom: 0px; margin-top: 0px;\">SLURMCluster</h3>\n",
       "        <p style=\"color: #9D9D9D; margin-bottom: 0px;\">885d1630</p>\n",
       "        <table style=\"width: 100%; text-align: left;\">\n",
       "            <tr>\n",
       "                <td style=\"text-align: left;\">\n",
       "                    <strong>Dashboard:</strong> <a href=\"http://10.120.16.92:8787/status\" target=\"_blank\">http://10.120.16.92:8787/status</a>\n",
       "                </td>\n",
       "                <td style=\"text-align: left;\">\n",
       "                    <strong>Workers:</strong> 0\n",
       "                </td>\n",
       "            </tr>\n",
       "            <tr>\n",
       "                <td style=\"text-align: left;\">\n",
       "                    <strong>Total threads:</strong> 0\n",
       "                </td>\n",
       "                <td style=\"text-align: left;\">\n",
       "                    <strong>Total memory:</strong> 0 B\n",
       "                </td>\n",
       "            </tr>\n",
       "            \n",
       "        </table>\n",
       "\n",
       "        <details>\n",
       "            <summary style=\"margin-bottom: 20px;\">\n",
       "                <h3 style=\"display: inline;\">Scheduler Info</h3>\n",
       "            </summary>\n",
       "\n",
       "            <div style=\"\">\n",
       "    <div>\n",
       "        <div style=\"width: 24px; height: 24px; background-color: #FFF7E5; border: 3px solid #FF6132; border-radius: 5px; position: absolute;\"> </div>\n",
       "        <div style=\"margin-left: 48px;\">\n",
       "            <h3 style=\"margin-bottom: 0px;\">Scheduler</h3>\n",
       "            <p style=\"color: #9D9D9D; margin-bottom: 0px;\">Scheduler-6dc6bc14-aa33-4976-90d7-3a6e23aaabc5</p>\n",
       "            <table style=\"width: 100%; text-align: left;\">\n",
       "                <tr>\n",
       "                    <td style=\"text-align: left;\">\n",
       "                        <strong>Comm:</strong> tcp://10.120.16.92:43873\n",
       "                    </td>\n",
       "                    <td style=\"text-align: left;\">\n",
       "                        <strong>Workers:</strong> 0\n",
       "                    </td>\n",
       "                </tr>\n",
       "                <tr>\n",
       "                    <td style=\"text-align: left;\">\n",
       "                        <strong>Dashboard:</strong> <a href=\"http://10.120.16.92:8787/status\" target=\"_blank\">http://10.120.16.92:8787/status</a>\n",
       "                    </td>\n",
       "                    <td style=\"text-align: left;\">\n",
       "                        <strong>Total threads:</strong> 0\n",
       "                    </td>\n",
       "                </tr>\n",
       "                <tr>\n",
       "                    <td style=\"text-align: left;\">\n",
       "                        <strong>Started:</strong> Just now\n",
       "                    </td>\n",
       "                    <td style=\"text-align: left;\">\n",
       "                        <strong>Total memory:</strong> 0 B\n",
       "                    </td>\n",
       "                </tr>\n",
       "            </table>\n",
       "        </div>\n",
       "    </div>\n",
       "\n",
       "    <details style=\"margin-left: 48px;\">\n",
       "        <summary style=\"margin-bottom: 20px;\">\n",
       "            <h3 style=\"display: inline;\">Workers</h3>\n",
       "        </summary>\n",
       "\n",
       "        \n",
       "\n",
       "    </details>\n",
       "</div>\n",
       "\n",
       "        </details>\n",
       "    </div>\n",
       "</div>\n",
       "            </details>\n",
       "        \n",
       "\n",
       "    </div>\n",
       "</div>"
      ],
      "text/plain": [
       "<Client: 'tcp://10.120.16.92:43873' processes=0 threads=0, memory=0 B>"
      ]
     },
     "execution_count": 7,
     "metadata": {},
     "output_type": "execute_result"
    }
   ],
   "source": [
    "dask_controller.daskclient"
   ]
  },
  {
   "cell_type": "code",
   "execution_count": 8,
   "metadata": {},
   "outputs": [],
   "source": [
    "dask_bit_arr = da.from_array(bit_arr,chunks=(10000,30)).astype(\"uint8\")"
   ]
  },
  {
   "cell_type": "code",
   "execution_count": 9,
   "metadata": {},
   "outputs": [
    {
     "data": {
      "text/html": [
       "<table>\n",
       "    <tr>\n",
       "        <td>\n",
       "            <table style=\"border-collapse: collapse;\">\n",
       "                <thead>\n",
       "                    <tr>\n",
       "                        <td> </td>\n",
       "                        <th> Array </th>\n",
       "                        <th> Chunk </th>\n",
       "                    </tr>\n",
       "                </thead>\n",
       "                <tbody>\n",
       "                    \n",
       "                    <tr>\n",
       "                        <th> Bytes </th>\n",
       "                        <td> 440.04 kiB </td>\n",
       "                        <td> 292.97 kiB </td>\n",
       "                    </tr>\n",
       "                    \n",
       "                    <tr>\n",
       "                        <th> Shape </th>\n",
       "                        <td> (15020, 30) </td>\n",
       "                        <td> (10000, 30) </td>\n",
       "                    </tr>\n",
       "                    <tr>\n",
       "                        <th> Dask graph </th>\n",
       "                        <td colspan=\"2\"> 2 chunks in 1 graph layer </td>\n",
       "                    </tr>\n",
       "                    <tr>\n",
       "                        <th> Data type </th>\n",
       "                        <td colspan=\"2\"> uint8 numpy.ndarray </td>\n",
       "                    </tr>\n",
       "                </tbody>\n",
       "            </table>\n",
       "        </td>\n",
       "        <td>\n",
       "        <svg width=\"75\" height=\"170\" style=\"stroke:rgb(0,0,0);stroke-width:1\" >\n",
       "\n",
       "  <!-- Horizontal lines -->\n",
       "  <line x1=\"0\" y1=\"0\" x2=\"25\" y2=\"0\" style=\"stroke-width:2\" />\n",
       "  <line x1=\"0\" y1=\"79\" x2=\"25\" y2=\"79\" />\n",
       "  <line x1=\"0\" y1=\"120\" x2=\"25\" y2=\"120\" style=\"stroke-width:2\" />\n",
       "\n",
       "  <!-- Vertical lines -->\n",
       "  <line x1=\"0\" y1=\"0\" x2=\"0\" y2=\"120\" style=\"stroke-width:2\" />\n",
       "  <line x1=\"25\" y1=\"0\" x2=\"25\" y2=\"120\" style=\"stroke-width:2\" />\n",
       "\n",
       "  <!-- Colored Rectangle -->\n",
       "  <polygon points=\"0.0,0.0 25.412616514582485,0.0 25.412616514582485,120.0 0.0,120.0\" style=\"fill:#ECB172A0;stroke-width:0\"/>\n",
       "\n",
       "  <!-- Text -->\n",
       "  <text x=\"12.706308\" y=\"140.000000\" font-size=\"1.0rem\" font-weight=\"100\" text-anchor=\"middle\" >30</text>\n",
       "  <text x=\"45.412617\" y=\"60.000000\" font-size=\"1.0rem\" font-weight=\"100\" text-anchor=\"middle\" transform=\"rotate(-90,45.412617,60.000000)\">15020</text>\n",
       "</svg>\n",
       "        </td>\n",
       "    </tr>\n",
       "</table>"
      ],
      "text/plain": [
       "dask.array<array, shape=(15020, 30), dtype=uint8, chunksize=(10000, 30), chunktype=numpy.ndarray>"
      ]
     },
     "execution_count": 9,
     "metadata": {},
     "output_type": "execute_result"
    }
   ],
   "source": [
    "dask_bit_arr"
   ]
  },
  {
   "cell_type": "code",
   "execution_count": 10,
   "metadata": {
    "tags": []
   },
   "outputs": [
    {
     "name": "stderr",
     "output_type": "stream",
     "text": [
      "\n",
      "KeyboardInterrupt\n",
      "\n"
     ]
    }
   ],
   "source": [
    "n_chunks = 1\n",
    "step = dask_bit_arr.chunksize[0]*n_chunks\n",
    "closest_match_list = []\n",
    "for i in range(0,dask_bit_arr.shape[0],step):\n",
    "    both_on = (dask_bit_arr[i:i+step]@dask_bit_arr.T).astype(\"uint8\")\n",
    "    both_off = ((-dask_bit_arr+1)[i:i+step]@(-dask_bit_arr.T+1)).astype(\"uint8\")\n",
    "    ttl_match = both_on+both_off\n",
    "    hamming_dist = dask_bit_arr.shape[1] - ttl_match\n",
    "    \n",
    "    N = hamming_dist.shape[0]\n",
    "    M = hamming_dist.shape[1]\n",
    "    K = max(0,dask_bit_arr.shape[0]-(i+step))\n",
    "    # print(f\"i:{i}, N:{N}, K:{K}, M:{M}\")\n",
    "    if (i>0) and (K>0):\n",
    "        zeros_arr_left = da.zeros((N,i)).astype(bool)\n",
    "        zeros_arr_right = da.zeros((N,K)).astype(bool)\n",
    "        diagonal_mask = da.eye(N).astype(bool)\n",
    "        padded_diagonal_mask = da.concatenate([zeros_arr_left,diagonal_mask,zeros_arr_right],axis=1)\n",
    "    elif (i>0):\n",
    "        zeros_arr_left = da.zeros((N,i)).astype(bool)\n",
    "        diagonal_mask = da.eye(N).astype(bool)\n",
    "        padded_diagonal_mask = da.concatenate([zeros_arr_left,diagonal_mask],axis=1)\n",
    "    else:\n",
    "        zeros_arr_right = da.zeros((N,K)).astype(bool)\n",
    "        diagonal_mask = da.eye(N).astype(bool)\n",
    "        padded_diagonal_mask = da.concatenate([diagonal_mask,zeros_arr_right],axis=1)\n",
    "    \n",
    "    hamming_dist[padded_diagonal_mask] = 100\n",
    "    closest_match = da.min(hamming_dist,axis=1)\n",
    "    closest_match_list.append(closest_match.compute())\n",
    "\n",
    "closest_match_list = np.concatenate(closest_match_list)"
   ]
  },
  {
   "cell_type": "code",
   "execution_count": null,
   "metadata": {},
   "outputs": [],
   "source": [
    "with open(snakemake_QC_outputs_path + '/closest_match.npy', 'wb') as f:\n",
    "    np.save(f, closest_match_list)"
   ]
  },
  {
   "cell_type": "markdown",
   "metadata": {},
   "source": [
    "### Plot Hamming Distance Distribution"
   ]
  },
  {
   "cell_type": "markdown",
   "metadata": {},
   "source": [
    "#### These are not the plots we want in the final draft\n",
    "\n",
    "The final distribution should come from the bit-subtracted histograms extractable from the final pandas df\n",
    "\n",
    "- This is talking about the bit removal and soft hamming assignment procedure\n",
    "- In other words, this hamming distirbution is going to depend on that bit subtraction"
   ]
  },
  {
   "cell_type": "code",
   "execution_count": 8,
   "metadata": {},
   "outputs": [],
   "source": [
    "with open(snakemake_QC_outputs_path + '/closest_match.npy', 'rb') as f:\n",
    "    closest_match_list = np.load(f)"
   ]
  },
  {
   "cell_type": "code",
   "execution_count": 9,
   "metadata": {},
   "outputs": [],
   "source": [
    "closest_match_dict = {barcode:closest_match_list[k] for k,barcode in enumerate(barcodes)}"
   ]
  },
  {
   "cell_type": "code",
   "execution_count": 10,
   "metadata": {},
   "outputs": [
    {
     "data": {
      "image/png": "[encoded data removed]",
      "text/plain": [
       "<Figure size 640x480 with 1 Axes>"
      ]
     },
     "metadata": {},
     "output_type": "display_data"
    }
   ],
   "source": [
    "hist_count,hist_unique,_ = plt.hist(closest_match_list,bins=range(0,11),edgecolor=\"black\")\n",
    "hist_dict = dict(zip(hist_unique.astype(int),hist_count.astype(int)))\n",
    "plt.xlabel(\"Closest Hamming Distance\",fontsize=20)\n",
    "plt.ylabel(\"N Barcodes\",fontsize=20)\n",
    "plt.xticks(fontsize=16)\n",
    "plt.yticks(fontsize=16)\n",
    "plt.xticks([1.5,2.5,3.5,4.5,5.5,6.5,7.5,8.5,9.5,10.5],[\"1\",\"2\",\"3\",\"4\",\"5\",\"6\",\"7\",\"8\",\"9\",\"10\"])\n",
    "plt.xlim(0.5,10)\n",
    "plt.savefig(snakemake_QC_outputs_path + \"/Closest_Hamming_Distance_Histogram.png\",\\\n",
    "            dpi=300,bbox_inches=\"tight\")\n",
    "plt.show()"
   ]
  },
  {
   "cell_type": "markdown",
   "metadata": {},
   "source": [
    "### Depth Distribution"
   ]
  },
  {
   "cell_type": "code",
   "execution_count": 11,
   "metadata": {},
   "outputs": [
    {
     "data": {
      "image/png": "[encoded data removed]",
      "text/plain": [
       "<Figure size 1200x800 with 1 Axes>"
      ]
     },
     "metadata": {},
     "output_type": "display_data"
    }
   ],
   "source": [
    "with open(sequencing_path + '/graph_output/barcode_counts_dict.pkl', 'rb') as infile:\n",
    "    depth_dict = pkl.load(infile)\n",
    "depth_arr = np.array(list(depth_dict.values()))\n",
    "n_reads_ttl = np.sum(depth_arr)\n",
    "depth_threshold = config_data['depth_threshold']\n",
    "\n",
    "read_range = (0,2000)\n",
    "\n",
    "fig = plt.figure(figsize=(12, 8))\n",
    "\n",
    "under_threshold_arr = depth_arr[depth_arr<depth_threshold]\n",
    "above_threshold_arr = depth_arr[depth_arr>=depth_threshold]\n",
    "plt.hist(under_threshold_arr, bins=200, range=read_range, log=True, color=\"grey\", label=\"Under Threshold\")\n",
    "plt.hist(above_threshold_arr, bins=200, range=read_range, log=True, color=\"tab:blue\", label=\"Above Threshold\")\n",
    "plt.xlabel(\"Read Depth\",fontsize=20)\n",
    "plt.xticks(fontsize=20)\n",
    "plt.ylabel(\"N Barcodes\",fontsize=20)\n",
    "plt.yticks(fontsize=20)\n",
    "plt.legend(fontsize=20)\n",
    "plt.savefig(snakemake_QC_outputs_path + \"/Read_Depth_Distribution.png\",dpi=300,bbox_inches=\"tight\")\n",
    "plt.show()"
   ]
  },
  {
   "cell_type": "markdown",
   "metadata": {},
   "source": [
    "## Output Variant Dataframe"
   ]
  },
  {
   "cell_type": "code",
   "execution_count": 12,
   "metadata": {
    "tags": []
   },
   "outputs": [
    {
     "name": "stderr",
     "output_type": "stream",
     "text": [
      "/home/de64/micromamba/envs/crispri/lib/python3.11/site-packages/distributed/client.py:3166: UserWarning: Sending large graph of size 29.28 MiB.\n",
      "This may cause some slowdown.\n",
      "Consider scattering data ahead of time and using futures.\n",
      "  warnings.warn(\n",
      "/home/de64/micromamba/envs/crispri/lib/python3.11/site-packages/dask/dataframe/core.py:7365: FutureWarning: Meta is not valid, `map_partitions` and `map_overlap` expects output to be a pandas object. Try passing a pandas object as meta or a dict or tuple representing the (name, dtype) of the columns. In the future the meta you passed will not work.\n",
      "  warnings.warn(\n",
      "/home/de64/micromamba/envs/crispri/lib/python3.11/site-packages/dask/dataframe/core.py:7365: FutureWarning: Meta is not valid, `map_partitions` and `map_overlap` expects output to be a pandas object. Try passing a pandas object as meta or a dict or tuple representing the (name, dtype) of the columns. In the future the meta you passed will not work.\n",
      "  warnings.warn(\n",
      "/home/de64/micromamba/envs/crispri/lib/python3.11/site-packages/dask/dataframe/core.py:7365: FutureWarning: Meta is not valid, `map_partitions` and `map_overlap` expects output to be a pandas object. Try passing a pandas object as meta or a dict or tuple representing the (name, dtype) of the columns. In the future the meta you passed will not work.\n",
      "  warnings.warn(\n",
      "/home/de64/micromamba/envs/crispri/lib/python3.11/site-packages/dask/dataframe/core.py:7365: FutureWarning: Meta is not valid, `map_partitions` and `map_overlap` expects output to be a pandas object. Try passing a pandas object as meta or a dict or tuple representing the (name, dtype) of the columns. In the future the meta you passed will not work.\n",
      "  warnings.warn(\n",
      "/home/de64/micromamba/envs/crispri/lib/python3.11/site-packages/dask/dataframe/core.py:7365: FutureWarning: Meta is not valid, `map_partitions` and `map_overlap` expects output to be a pandas object. Try passing a pandas object as meta or a dict or tuple representing the (name, dtype) of the columns. In the future the meta you passed will not work.\n",
      "  warnings.warn(\n",
      "/home/de64/micromamba/envs/crispri/lib/python3.11/site-packages/dask/dataframe/core.py:7365: FutureWarning: Meta is not valid, `map_partitions` and `map_overlap` expects output to be a pandas object. Try passing a pandas object as meta or a dict or tuple representing the (name, dtype) of the columns. In the future the meta you passed will not work.\n",
      "  warnings.warn(\n"
     ]
    }
   ],
   "source": [
    "sequencing_output_dd = dd.from_pandas(sequencing_output_df,npartitions=100).persist()\n",
    "\n",
    "## Align consensus sequence to reference using cigar string\n",
    "aligned_cons = sequencing_output_dd.apply(lambda x: align_read(x[\"consensus\"],x[\"reference\"],x[\"cigar\"],startpos=x[\"alignmentstart\"]),\\\n",
    "                                          axis=1,meta=str).persist()\n",
    "## Use GFA reference to determine intervals for each annotation \n",
    "ref_intervals = get_ref_intervals(reference_gfa_path)\n",
    "## Split sequences based on annotated intervals\n",
    "split_ref = sequencing_output_dd.apply(lambda x: splitstr(x[\"reference\"],ref_intervals), axis=1, meta=dict).persist()\n",
    "split_align = aligned_cons.apply(lambda x: splitstr(x,ref_intervals), meta=dict).persist()\n",
    "\n",
    "sequencing_output_dd[\"aligned_cons\"] = aligned_cons\n",
    "sequencing_output_dd[\"split_ref\"] = split_ref\n",
    "sequencing_output_dd[\"split_align\"] = split_align\n",
    "\n",
    "## Compute hamming distance from reference, by annotated element\n",
    "hamm_ref = sequencing_output_dd.apply(lambda x: get_dict_dist(ast.literal_eval(x[\"split_align\"]),ast.literal_eval(x[\"split_ref\"])), axis=1, meta=dict).persist()\n",
    "\n",
    "## Get promoters and UMIs\n",
    "UMI = sequencing_output_dd[\"split_align\"].apply(lambda x: ast.literal_eval(x)[\"Variant\"][274:294], meta=str).persist()\n",
    "sgRNA = sequencing_output_dd[\"split_align\"].apply(lambda x: str(Seq(ast.literal_eval(x)[\"Variant\"][175:195]).reverse_complement()), meta=str).persist()\n",
    "## Assign closest match to each barcode (for costructing output df later)\n",
    "closest_hamming_dist = sequencing_output_dd[\"barcode\"].compute().apply(lambda x: closest_match_dict[x])\n",
    "\n",
    "sequencing_output_dd[\"hamm_ref\"] = hamm_ref\n",
    "sequencing_output_dd[\"UMI\"] = UMI\n",
    "sequencing_output_dd[\"sgRNA\"] = sgRNA\n",
    "sequencing_output_dd[\"Closest Hamming Distance\"] = closest_hamming_dist\n",
    "sequencing_output_dd = sequencing_output_dd.persist()\n",
    "\n",
    "del hamm_ref\n",
    "del closest_hamming_dist\n",
    "del aligned_cons\n",
    "del split_align\n",
    "del split_ref\n",
    "\n",
    "sequencing_output_df_final = sequencing_output_dd.compute()"
   ]
  },
  {
   "cell_type": "code",
   "execution_count": 13,
   "metadata": {},
   "outputs": [],
   "source": [
    "sgRNA_data = pd.read_csv(library_design_path,sep=\"\\t\")\n",
    "sgRNA_dict = sgRNA_data[\"sgRNA Sequence\"].to_dict()\n",
    "sgRNA_inv_dict = {val:key for key,val in sgRNA_dict.items()}\n",
    "\n",
    "valid_mask = sequencing_output_df_final[\"sgRNA\"].isin(sgRNA_inv_dict.keys())\n",
    "valid_data_df = sequencing_output_df_final[valid_mask]\n",
    "index_map = valid_data_df[\"sgRNA\"].apply(lambda x: sgRNA_inv_dict[x])\n",
    "sgRNA_data_subset = sgRNA_data.loc[index_map.to_list()]\n",
    "\n",
    "merged_df = valid_data_df.reset_index(drop=True).join(sgRNA_data_subset[[\"oDEPool7_id\",\"EcoWG1_id\",\"Gene\",\"Strand\",\"Target Sequence\",\"Target Sites\",\\\n",
    "                                                             \"N Target Sites\",\"N Mismatch\",\"Category\",\"TargetID\"]].reset_index(drop=True))\n",
    "merged_df['barcode depth'] = merged_df['barcode'].apply(lambda x: depth_dict[x])\n",
    "n_barcodes = merged_df.groupby(\"sgRNA\").size()"
   ]
  },
  {
   "cell_type": "markdown",
   "metadata": {},
   "source": [
    "### Barcodes per Variant Distribution"
   ]
  },
  {
   "cell_type": "code",
   "execution_count": 31,
   "metadata": {},
   "outputs": [
    {
     "data": {
      "image/png": "[encoded data removed]",
      "text/plain": [
       "<Figure size 640x480 with 1 Axes>"
      ]
     },
     "metadata": {},
     "output_type": "display_data"
    }
   ],
   "source": [
    "plt.hist(n_barcodes,bins=range(0,51,2),edgecolor=\"black\")\n",
    "plt.xlabel(\"N Barcodes/Variant\",fontsize=20)\n",
    "plt.ylabel(\"N Variants\",fontsize=20)\n",
    "plt.xticks(fontsize=16)\n",
    "plt.yticks(fontsize=16)\n",
    "plt.savefig(snakemake_QC_outputs_path + \"/Barcodes_per_Variant_Distribution.png\",\\\n",
    "            dpi=300,bbox_inches=\"tight\")\n",
    "plt.show()"
   ]
  },
  {
   "cell_type": "code",
   "execution_count": 33,
   "metadata": {},
   "outputs": [],
   "source": [
    "## Storing dataframe as a csv\n",
    "merged_df.to_csv(\"./lDE26_example_df.tsv\",sep=\"\\t\")"
   ]
  },
  {
   "cell_type": "markdown",
   "metadata": {},
   "source": [
    "### Shutdown Dask"
   ]
  },
  {
   "cell_type": "code",
   "execution_count": 36,
   "metadata": {
    "tags": []
   },
   "outputs": [
    {
     "name": "stderr",
     "output_type": "stream",
     "text": [
      "/home/de64/micromamba/envs/crispri/lib/python3.11/site-packages/dask_jobqueue/core.py:255: FutureWarning: job_extra has been renamed to job_extra_directives. You are still using it (even if only set to []; please also check config files). If you did not set job_extra_directives yet, job_extra will be respected for now, but it will be removed in a future release. If you already set job_extra_directives, job_extra is ignored and you can remove it.\n",
      "  warnings.warn(warn, FutureWarning)\n"
     ]
    }
   ],
   "source": [
    "dask_controller.shutdown()"
   ]
  },
  {
   "cell_type": "code",
   "execution_count": null,
   "metadata": {},
   "outputs": [],
   "source": []
  }
 ],
 "metadata": {
  "kernelspec": {
   "display_name": "Python 3 (ipykernel)",
   "language": "python",
   "name": "python3"
  },
  "language_info": {
   "codemirror_mode": {
    "name": "ipython",
    "version": 3
   },
   "file_extension": ".py",
   "mimetype": "text/x-python",
   "name": "python",
   "nbconvert_exporter": "python",
   "pygments_lexer": "ipython3",
   "version": "3.11.8"
  }
 },
 "nbformat": 4,
 "nbformat_minor": 4
}
