{
 "cells": [
  {
   "cell_type": "code",
   "execution_count": 2,
   "metadata": {},
   "outputs": [],
   "source": [
    "import csv\n",
    "import ast\n",
    "import re\n",
    "import numpy as np\n",
    "import pandas as pd\n",
    "import seaborn as sns\n",
    "\n",
    "from Bio import SeqIO\n",
    "\n",
    "from matplotlib import pyplot as plt"
   ]
  },
  {
   "cell_type": "code",
   "execution_count": 122,
   "metadata": {},
   "outputs": [],
   "source": [
    "def align_read(querystr,cigarstr,pattern=re.compile(\"[0-9]{0,10}[MDI]\")):\n",
    "    result = pattern.finditer(cigarstr)\n",
    "    cigar_seq = [(item.group(0)[-1],int(item.group(0)[:-1])) for item in result]\n",
    "#     output_str = \"\".join([\"-\" for i in range(cigar[1])])\n",
    "    output_str = \"\"\n",
    "    current_idx = 0\n",
    "    for item in cigar_seq:\n",
    "        if item[0]==\"M\":\n",
    "            added_str = querystr[current_idx:current_idx+item[1]]\n",
    "            output_str += added_str\n",
    "            current_idx += item[1]\n",
    "        elif item[0]==\"D\":\n",
    "            added_str = \"\".join([\"-\" for i in range(item[1])])\n",
    "            output_str += added_str\n",
    "        elif item[0]==\"I\":\n",
    "            current_idx += item[1]\n",
    "    return output_str\n",
    "def cigarsfromsam(samfilepath):\n",
    "    cigars = {}\n",
    "    with open(samfilepath,\"r\") as samfile:\n",
    "        for line in samfile:\n",
    "            if line[0]==\"@\":\n",
    "                next(samfile)\n",
    "            else:\n",
    "                splitline = line.split(\"\\t\")\n",
    "                cigars[splitline[0]] = splitline[5]\n",
    "    return cigars\n",
    "\n",
    "def strsfromfasta(fastafilepath):\n",
    "    queries = SeqIO.to_dict(SeqIO.parse(fastafilepath,\"fasta\"))\n",
    "    queries = {key: str(val.seq) for key,val in queries.items()}\n",
    "    return queries\n",
    "\n",
    "def make_seg_dict(gfafile):\n",
    "    segment_dict = {}\n",
    "    with open(gfafile,\"r\") as infile:\n",
    "        for line in infile:\n",
    "            if line[0] == \"S\":\n",
    "                splitline = line.split(\"\\t\")\n",
    "                segment_dict[splitline[1]] = splitline[2][:-1]\n",
    "    return segment_dict\n",
    "\n",
    "def get_ref_intervals(gfafile):\n",
    "    segment_dict = {}\n",
    "    current_idx = 0\n",
    "    with open(gfafile,\"r\") as infile:\n",
    "        for line in infile:\n",
    "            if line[0] == \"S\":\n",
    "                splitline = line.split(\"\\t\")\n",
    "                if \"OFF\" not in splitline[1]:\n",
    "                    refstr = splitline[2][:-1]\n",
    "                    strlen = len(refstr)\n",
    "                    name = splitline[1]\n",
    "                    if \"ON\" in name:\n",
    "                        name=name[:-2]\n",
    "                    segment_dict[name] = tuple((current_idx,current_idx+strlen))\n",
    "                    current_idx += strlen\n",
    "    return segment_dict\n",
    "def align_read(querystr,cigarstr,pattern=re.compile(\"[0-9]{0,10}[MDI]\")):\n",
    "    result = pattern.finditer(cigarstr)\n",
    "    cigar_seq = [(item.group(0)[-1],int(item.group(0)[:-1])) for item in result]\n",
    "#     output_str = \"\".join([\"-\" for i in range(cigar[1])])\n",
    "    output_str = \"\"\n",
    "    current_idx = 0\n",
    "    for item in cigar_seq:\n",
    "        if item[0]==\"M\":\n",
    "            added_str = querystr[current_idx:current_idx+item[1]]\n",
    "            output_str += added_str\n",
    "            current_idx += item[1]\n",
    "        elif item[0]==\"D\":\n",
    "            added_str = \"\".join([\"-\" for i in range(item[1])])\n",
    "            output_str += added_str\n",
    "        elif item[0]==\"I\":\n",
    "            current_idx += item[1]\n",
    "    return output_str\n",
    "\n",
    "def splitstr(instr,ref_intervals):    \n",
    "    strassign = {key:instr[val[0]:val[1]] for key,val in ref_intervals.items()}\n",
    "    return strassign\n",
    "\n",
    "def slow_hamming_distance(s1, s2):\n",
    "    if len(s1) != len(s2):\n",
    "        print(s1,s2)\n",
    "        raise ValueError(\"Strand lengths are not equal!\")\n",
    "    term_list = []\n",
    "    for ch1,ch2 in zip(s1,s2):\n",
    "        if ch1 == \"N\" or ch2 == \"N\":\n",
    "            term_list.append(False)\n",
    "        else:\n",
    "            term_list.append(ch1 != ch2)\n",
    "    result = sum(term_list)\n",
    "    return result\n",
    "\n",
    "def get_dict_dist(dict1,dict2):\n",
    "    hamming_dict = {key:slow_hamming_distance(dict1[key],dict2[key]) for key in dict1.keys()}\n",
    "    return hamming_dict"
   ]
  },
  {
   "cell_type": "code",
   "execution_count": 142,
   "metadata": {},
   "outputs": [],
   "source": [
    "# ORIGINAL PATHS\n",
    "R9_data = pd.read_csv(\"/home/de64/scratch/de64/sync_folder/2020-10-18_snakemake_2020-09-24_oDEPool3/output.tsv\",delimiter=\"\\t\")\n",
    "R10_data = pd.read_csv(\"/home/de64/scratch/de64/sync_folder/2020-10-18_snakemake_2020-10-14_lDE11_R10-3_merged/output.tsv\",delimiter=\"\\t\")\n",
    "ref_intervals = get_ref_intervals(\"/home/de64/scratch/de64/sync_folder/2020-10-18_snakemake_2020-10-14_lDE11_R10-3_merged/ref.gfa\")"
   ]
  },
  {
   "cell_type": "code",
   "execution_count": 143,
   "metadata": {},
   "outputs": [],
   "source": [
    "# R9_data = pd.read_csv(\"/home/de64/scratch/de64/2020-12-05_DAC/R9_output.tsv\",delimiter=\"\\t\")\n",
    "# R10_data = pd.read_csv(\"/home/de64/scratch/de64/2020-12-05_DAC/R10_output.tsv\",delimiter=\"\\t\")\n",
    "# ref_intervals = get_ref_intervals(\"./ref.gfa\")\n",
    "\n",
    "R9_barcodes = set(R9_data[\"barcode\"].tolist())\n",
    "R10_barcodes = set(R10_data[\"barcode\"].tolist())\n",
    "\n",
    "R9_only_barcodes = R9_barcodes-R10_barcodes\n",
    "R10_only_barcodes = R10_barcodes-R9_barcodes\n",
    "shared_barcodes = R10_barcodes&R9_barcodes\n",
    "barcode_count_arr = np.array([len(R9_only_barcodes),len(R10_only_barcodes),len(shared_barcodes)])\n",
    "\n",
    "R9_data = R9_data[R9_data[\"barcode\"].isin(shared_barcodes)]\n",
    "R10_data = R10_data[R10_data[\"barcode\"].isin(shared_barcodes)]"
   ]
  },
  {
   "cell_type": "code",
   "execution_count": 144,
   "metadata": {},
   "outputs": [
    {
     "data": {
      "image/png": "[encoded data removed]",
      "text/plain": [
       "<Figure size 640x480 with 1 Axes>"
      ]
     },
     "metadata": {},
     "output_type": "display_data"
    }
   ],
   "source": [
    "ax = sns.barplot(x=[\"R9 Only\",\"R10 Only\",\"Both\"], y=barcode_count_arr)"
   ]
  },
  {
   "cell_type": "code",
   "execution_count": 145,
   "metadata": {},
   "outputs": [],
   "source": [
    "bit_arr = np.array([list(item) for item in shared_barcodes]).astype(int)\n",
    "bit_freq = np.mean(bit_arr,axis=0)"
   ]
  },
  {
   "cell_type": "code",
   "execution_count": 146,
   "metadata": {},
   "outputs": [
    {
     "data": {
      "text/plain": [
       "27"
      ]
     },
     "execution_count": 146,
     "metadata": {},
     "output_type": "execute_result"
    }
   ],
   "source": [
    "len(bit_freq)"
   ]
  },
  {
   "cell_type": "code",
   "execution_count": 147,
   "metadata": {},
   "outputs": [
    {
     "data": {
      "text/plain": [
       "array([[0, 0, 1, ..., 0, 0, 0],\n",
       "       [1, 0, 0, ..., 0, 1, 1],\n",
       "       [1, 0, 1, ..., 0, 0, 0],\n",
       "       ...,\n",
       "       [1, 1, 0, ..., 0, 0, 1],\n",
       "       [1, 1, 1, ..., 0, 1, 1],\n",
       "       [1, 1, 1, ..., 1, 1, 1]])"
      ]
     },
     "execution_count": 147,
     "metadata": {},
     "output_type": "execute_result"
    }
   ],
   "source": [
    "bit_arr"
   ]
  },
  {
   "cell_type": "code",
   "execution_count": 148,
   "metadata": {},
   "outputs": [
    {
     "data": {
      "image/png": "[encoded data removed]",
      "text/plain": [
       "<Figure size 640x480 with 1 Axes>"
      ]
     },
     "metadata": {},
     "output_type": "display_data"
    }
   ],
   "source": [
    "ax = sns.barplot(x=list(range(27)), y=bit_freq, color=\"grey\")"
   ]
  },
  {
   "cell_type": "code",
   "execution_count": 149,
   "metadata": {},
   "outputs": [],
   "source": [
    "both_on = bit_arr@bit_arr.T\n",
    "both_off = (-bit_arr+1)@(-bit_arr.T+1)\n",
    "ttl_match = both_on+both_off\n",
    "np.fill_diagonal(ttl_match,100)"
   ]
  },
  {
   "cell_type": "code",
   "execution_count": 150,
   "metadata": {},
   "outputs": [],
   "source": [
    "closest_match = np.min(ttl_match,axis=0)"
   ]
  },
  {
   "cell_type": "code",
   "execution_count": 151,
   "metadata": {},
   "outputs": [
    {
     "data": {
      "image/png": "[encoded data removed]",
      "text/plain": [
       "<Figure size 640x480 with 1 Axes>"
      ]
     },
     "metadata": {},
     "output_type": "display_data"
    }
   ],
   "source": [
    "plt.hist(closest_match,range=(0,10))\n",
    "plt.show()"
   ]
  },
  {
   "cell_type": "code",
   "execution_count": 152,
   "metadata": {},
   "outputs": [
    {
     "data": {
      "text/plain": [
       "4"
      ]
     },
     "execution_count": 152,
     "metadata": {},
     "output_type": "execute_result"
    }
   ],
   "source": [
    "np.sum(closest_match==1)"
   ]
  },
  {
   "cell_type": "code",
   "execution_count": 153,
   "metadata": {},
   "outputs": [
    {
     "data": {
      "image/png": "[encoded data removed]",
      "text/plain": [
       "<Figure size 640x480 with 1 Axes>"
      ]
     },
     "metadata": {},
     "output_type": "display_data"
    }
   ],
   "source": [
    "plt.hist(np.random.choice(ttl_match.flatten(),50000,replace=False),range=(0,27),bins=27)\n",
    "plt.show()"
   ]
  },
  {
   "cell_type": "code",
   "execution_count": 154,
   "metadata": {},
   "outputs": [],
   "source": [
    "aligned_cons = R9_data.apply(lambda x: align_read(x[\"consensus\"],x[\"cigar\"]), axis=1)\n",
    "R9_data[\"aligned_cons\"] = aligned_cons\n",
    "\n",
    "aligned_cons = R10_data.apply(lambda x: align_read(x[\"consensus\"],x[\"cigar\"]), axis=1)\n",
    "R10_data[\"aligned_cons\"] = aligned_cons\n",
    "\n",
    "split_ref = R9_data.apply(lambda x: splitstr(x[\"reference\"],ref_intervals), axis=1)\n",
    "split_align = R9_data.apply(lambda x: splitstr(x[\"aligned_cons\"],ref_intervals), axis=1)\n",
    "R9_data[\"split_ref\"] = split_ref\n",
    "R9_data[\"split_align\"] = split_align\n",
    "\n",
    "split_ref = R10_data.apply(lambda x: splitstr(x[\"reference\"],ref_intervals), axis=1)\n",
    "split_align = R10_data.apply(lambda x: splitstr(x[\"aligned_cons\"],ref_intervals), axis=1)\n",
    "R10_data[\"split_ref\"] = split_ref\n",
    "R10_data[\"split_align\"] = split_align\n",
    "\n",
    "R9_data[\"split_ref\"] = R9_data[\"split_ref\"].apply(lambda x: {key:val for key,val in x.items() if key==\"GFP\"}) ## This is a hack until I can repull the alignment data...then I'll add padding for the unaligned parts\n",
    "R9_data[\"split_align\"] = R9_data[\"split_align\"].apply(lambda x: {key:val for key,val in x.items() if key==\"GFP\"}) ## This is a hack until I can repull the alignment data...\n",
    "\n",
    "R10_data[\"split_ref\"] = R10_data[\"split_ref\"].apply(lambda x: {key:val for key,val in x.items() if key==\"GFP\"}) ## This is a hack until I can repull the alignment data...then I'll add padding for the unaligned parts\n",
    "R10_data[\"split_align\"] = R10_data[\"split_align\"].apply(lambda x: {key:val for key,val in x.items() if key==\"GFP\"}) ## This is a hack until I can repull the alignment data...\n",
    "\n",
    "hamm_ref = R9_data.apply(lambda x: get_dict_dist(x[\"split_align\"],x[\"split_ref\"]), axis=1)\n",
    "R9_data[\"hamm_ref\"] = hamm_ref\n",
    "hamm_ref = R10_data.apply(lambda x: get_dict_dist(x[\"split_align\"],x[\"split_ref\"]), axis=1)\n",
    "R10_data[\"hamm_ref\"] = hamm_ref\n",
    "\n",
    "dark_gfp = R9_data.apply(lambda x: slow_hamming_distance(x[\"split_align\"][\"GFP\"][623:625],x[\"split_ref\"][\"GFP\"][623:625]), axis=1)>0\n",
    "R9_data[\"dark_gfp\"] = dark_gfp\n",
    "dark_gfp = R10_data.apply(lambda x: slow_hamming_distance(x[\"split_align\"][\"GFP\"][623:625],x[\"split_ref\"][\"GFP\"][623:625]), axis=1)>0\n",
    "R10_data[\"dark_gfp\"] = dark_gfp\n",
    "\n",
    "R9_data[\"UMI\"] = R9_data[\"split_align\"].apply(lambda x: x[\"GFP\"][925:940])\n",
    "R10_data[\"UMI\"] = R10_data[\"split_align\"].apply(lambda x: x[\"GFP\"][925:940])"
   ]
  },
  {
   "cell_type": "code",
   "execution_count": 155,
   "metadata": {},
   "outputs": [],
   "source": [
    "R9_ground_truth_data = R9_data[R9_data[\"subsample\"]==200]\n",
    "R9_ground_truth_lookup = dict(zip(R9_ground_truth_data[\"barcodeid\"],R9_ground_truth_data[\"dark_gfp\"]))\n",
    "\n",
    "R9_data[\"GFP Call\"] = R9_data.apply(lambda x: x[\"dark_gfp\"]==R9_ground_truth_lookup[x[\"barcodeid\"]],axis=1)\n",
    "\n",
    "R10_ground_truth_data = R10_data[R10_data[\"subsample\"]==200]\n",
    "R10_ground_truth_lookup = dict(zip(R10_ground_truth_data[\"barcodeid\"],R10_ground_truth_data[\"dark_gfp\"]))\n",
    "\n",
    "R10_data[\"GFP Call\"] = R10_data.apply(lambda x: x[\"dark_gfp\"]==R10_ground_truth_lookup[x[\"barcodeid\"]],axis=1)"
   ]
  },
  {
   "cell_type": "code",
   "execution_count": 156,
   "metadata": {},
   "outputs": [
    {
     "name": "stderr",
     "output_type": "stream",
     "text": [
      "/home/de64/micromamba/envs/nanopore/lib/python3.10/site-packages/pandas/core/internals/blocks.py:366: RuntimeWarning: divide by zero encountered in log10\n",
      "  result = func(self.values, **kwargs)\n"
     ]
    }
   ],
   "source": [
    "R9_subsample_group = R9_data.groupby(\"subsample\")\n",
    "R10_subsample_group = R10_data.groupby(\"subsample\")\n",
    "\n",
    "R9_GFP_call_curve = 1-R9_subsample_group.aggregate({'GFP Call': 'mean'})\n",
    "R10_GFP_call_curve = 1-R10_subsample_group.aggregate({'GFP Call': 'mean'})\n",
    "\n",
    "R9_GFP_q_scores = -10*np.log10(R9_GFP_call_curve)\n",
    "R10_GFP_q_scores = -10*np.log10(R10_GFP_call_curve)"
   ]
  },
  {
   "cell_type": "markdown",
   "metadata": {},
   "source": [
    "### UMI Error"
   ]
  },
  {
   "cell_type": "code",
   "execution_count": 157,
   "metadata": {},
   "outputs": [],
   "source": [
    "R9_ground_truth_umi_lookup = dict(zip(R9_ground_truth_data[\"barcodeid\"],R9_ground_truth_data[\"UMI\"]))\n",
    "R9_data[\"UMI Errors\"] = R9_data.apply(lambda x: slow_hamming_distance(x[\"UMI\"],R9_ground_truth_umi_lookup[x[\"barcodeid\"]]),axis=1)\n",
    "R9_data[\"UMI Error Rate\"] = R9_data[\"UMI Errors\"]/15\n",
    "R9_subsample_group = R9_data.groupby(\"subsample\")\n",
    "R9_UMI_call_curve = R9_subsample_group.aggregate({'UMI Error Rate': 'mean'})\n",
    "\n",
    "R10_ground_truth_umi_lookup = dict(zip(R10_ground_truth_data[\"barcodeid\"],R10_ground_truth_data[\"UMI\"]))\n",
    "R10_data[\"UMI Errors\"] = R10_data.apply(lambda x: slow_hamming_distance(x[\"UMI\"],R10_ground_truth_umi_lookup[x[\"barcodeid\"]]),axis=1)\n",
    "R10_data[\"UMI Error Rate\"] = R10_data[\"UMI Errors\"]/15\n",
    "R10_subsample_group = R10_data.groupby(\"subsample\")\n",
    "R10_UMI_call_curve = R10_subsample_group.aggregate({'UMI Error Rate': 'mean'})"
   ]
  },
  {
   "cell_type": "code",
   "execution_count": 158,
   "metadata": {},
   "outputs": [
    {
     "data": {
      "text/html": [
       "<div>\n",
       "<style scoped>\n",
       "    .dataframe tbody tr th:only-of-type {\n",
       "        vertical-align: middle;\n",
       "    }\n",
       "\n",
       "    .dataframe tbody tr th {\n",
       "        vertical-align: top;\n",
       "    }\n",
       "\n",
       "    .dataframe thead th {\n",
       "        text-align: right;\n",
       "    }\n",
       "</style>\n",
       "<table border=\"1\" class=\"dataframe\">\n",
       "  <thead>\n",
       "    <tr style=\"text-align: right;\">\n",
       "      <th></th>\n",
       "      <th>GFP Call</th>\n",
       "    </tr>\n",
       "    <tr>\n",
       "      <th>subsample</th>\n",
       "      <th></th>\n",
       "    </tr>\n",
       "  </thead>\n",
       "  <tbody>\n",
       "    <tr>\n",
       "      <th>5</th>\n",
       "      <td>0.037131</td>\n",
       "    </tr>\n",
       "    <tr>\n",
       "      <th>10</th>\n",
       "      <td>0.012940</td>\n",
       "    </tr>\n",
       "    <tr>\n",
       "      <th>15</th>\n",
       "      <td>0.006188</td>\n",
       "    </tr>\n",
       "    <tr>\n",
       "      <th>20</th>\n",
       "      <td>0.004219</td>\n",
       "    </tr>\n",
       "    <tr>\n",
       "      <th>25</th>\n",
       "      <td>0.005626</td>\n",
       "    </tr>\n",
       "    <tr>\n",
       "      <th>50</th>\n",
       "      <td>0.001688</td>\n",
       "    </tr>\n",
       "    <tr>\n",
       "      <th>200</th>\n",
       "      <td>0.000000</td>\n",
       "    </tr>\n",
       "  </tbody>\n",
       "</table>\n",
       "</div>"
      ],
      "text/plain": [
       "           GFP Call\n",
       "subsample          \n",
       "5          0.037131\n",
       "10         0.012940\n",
       "15         0.006188\n",
       "20         0.004219\n",
       "25         0.005626\n",
       "50         0.001688\n",
       "200        0.000000"
      ]
     },
     "execution_count": 158,
     "metadata": {},
     "output_type": "execute_result"
    }
   ],
   "source": [
    "R9_GFP_call_curve"
   ]
  },
  {
   "cell_type": "code",
   "execution_count": 159,
   "metadata": {},
   "outputs": [
    {
     "data": {
      "image/png": "[encoded data removed]",
      "text/plain": [
       "<Figure size 640x480 with 1 Axes>"
      ]
     },
     "metadata": {},
     "output_type": "display_data"
    }
   ],
   "source": [
    "plt.plot(R9_GFP_call_curve*100,linewidth=3.,label=\"R9.4.1\")\n",
    "plt.plot(R10_GFP_call_curve*100,linewidth=3.,label=\"R10.3.1\")\n",
    "plt.axvline(15,color=\"C1\",ls=\"--\",c=\"black\")\n",
    "plt.ylim(0.,5.)\n",
    "plt.xlim(0,50)\n",
    "plt.xticks([5,10,15,20,25,50],fontsize=16)\n",
    "plt.yticks([0.,1.,2.,3.,4.,5.],fontsize=16)\n",
    "plt.xlabel(\"Depth\",fontsize=16)\n",
    "plt.ylabel(\"Error (%)\",fontsize=16)\n",
    "plt.tight_layout()\n",
    "# plt.savefig(\"./Figure_1.png\",dpi=150)"
   ]
  },
  {
   "cell_type": "code",
   "execution_count": 160,
   "metadata": {},
   "outputs": [
    {
     "data": {
      "image/png": "[encoded data removed]",
      "text/plain": [
       "<Figure size 640x480 with 1 Axes>"
      ]
     },
     "metadata": {},
     "output_type": "display_data"
    }
   ],
   "source": [
    "plt.plot(R9_UMI_call_curve*100,linewidth=3.,label=\"R9.4.1\")\n",
    "plt.plot(R10_UMI_call_curve*100,linewidth=3.,label=\"R10.3.1\")\n",
    "plt.axvline(15,color=\"C1\",ls=\"--\",c=\"black\")\n",
    "plt.ylim(0.,5.)\n",
    "plt.xlim(0,50)\n",
    "plt.xticks([5,10,15,20,25,50],fontsize=16)\n",
    "plt.yticks([0.,1.,2.,3.,4.,5.],fontsize=16)\n",
    "plt.xlabel(\"Depth\",fontsize=16)\n",
    "plt.ylabel(\"Error (%)\",fontsize=16)\n",
    "plt.tight_layout()\n",
    "# plt.savefig(\"./Figure_1.png\",dpi=150)"
   ]
  },
  {
   "cell_type": "code",
   "execution_count": null,
   "metadata": {},
   "outputs": [],
   "source": []
  },
  {
   "cell_type": "code",
   "execution_count": null,
   "metadata": {},
   "outputs": [],
   "source": []
  },
  {
   "cell_type": "code",
   "execution_count": 168,
   "metadata": {},
   "outputs": [],
   "source": [
    "bitlist = [\"BIT\" + str(i) for i in range(27)]\n",
    "bit_mismatch_dict = {}\n",
    "for bit in bitlist:\n",
    "    mismatch_list = data.apply(lambda x: x[\"hamm_ref\"][bit], axis=1).values\n",
    "    bit_mismatch_dict[bit] = mismatch_list"
   ]
  },
  {
   "cell_type": "code",
   "execution_count": 169,
   "metadata": {
    "collapsed": true,
    "jupyter": {
     "outputs_hidden": true
    }
   },
   "outputs": [
    {
     "data": {
      "text/plain": [
       "{'BIT0': array([0, 0, 0, ..., 0, 0, 0]),\n",
       " 'BIT1': array([0, 0, 0, ..., 0, 0, 0]),\n",
       " 'BIT2': array([0, 0, 0, ..., 0, 0, 0]),\n",
       " 'BIT3': array([0, 0, 0, ..., 0, 0, 0]),\n",
       " 'BIT4': array([0, 0, 0, ..., 0, 0, 0]),\n",
       " 'BIT5': array([0, 0, 0, ..., 0, 0, 0]),\n",
       " 'BIT6': array([0, 0, 0, ..., 0, 0, 0]),\n",
       " 'BIT7': array([0, 0, 0, ..., 0, 0, 0]),\n",
       " 'BIT8': array([0, 0, 0, ..., 0, 0, 0]),\n",
       " 'BIT9': array([0, 0, 0, ..., 0, 0, 0]),\n",
       " 'BIT10': array([0, 0, 0, ..., 0, 0, 0]),\n",
       " 'BIT11': array([0, 0, 0, ..., 0, 0, 0]),\n",
       " 'BIT12': array([0, 0, 0, ..., 0, 0, 0]),\n",
       " 'BIT13': array([0, 0, 0, ..., 0, 0, 0]),\n",
       " 'BIT14': array([0, 0, 0, ..., 0, 0, 0]),\n",
       " 'BIT15': array([0, 0, 0, ..., 0, 0, 0]),\n",
       " 'BIT16': array([0, 0, 0, ..., 0, 0, 0]),\n",
       " 'BIT17': array([0, 0, 0, ..., 0, 0, 0]),\n",
       " 'BIT18': array([0, 0, 0, ..., 0, 0, 0]),\n",
       " 'BIT19': array([0, 0, 0, ..., 0, 0, 0]),\n",
       " 'BIT20': array([0, 0, 0, ..., 0, 0, 0]),\n",
       " 'BIT21': array([0, 0, 0, ..., 0, 0, 0]),\n",
       " 'BIT22': array([0, 0, 0, ..., 0, 0, 0]),\n",
       " 'BIT23': array([0, 0, 0, ..., 0, 0, 0]),\n",
       " 'BIT24': array([0, 0, 0, ..., 0, 0, 0]),\n",
       " 'BIT25': array([0, 0, 0, ..., 0, 0, 0]),\n",
       " 'BIT26': array([0, 0, 0, ..., 0, 0, 0])}"
      ]
     },
     "execution_count": 169,
     "metadata": {},
     "output_type": "execute_result"
    }
   ],
   "source": [
    "bit_mismatch_dict"
   ]
  },
  {
   "cell_type": "code",
   "execution_count": 170,
   "metadata": {
    "collapsed": true,
    "jupyter": {
     "outputs_hidden": true
    }
   },
   "outputs": [
    {
     "data": {
      "image/png": "[encoded data removed]",
      "text/plain": [
       "<Figure size 432x288 with 1 Axes>"
      ]
     },
     "metadata": {
      "needs_background": "light"
     },
     "output_type": "display_data"
    },
    {
     "data": {
      "image/png": "[encoded data removed]",
      "text/plain": [
       "<Figure size 432x288 with 1 Axes>"
      ]
     },
     "metadata": {
      "needs_background": "light"
     },
     "output_type": "display_data"
    },
    {
     "data": {
      "image/png": "[encoded data removed]",
      "text/plain": [
       "<Figure size 432x288 with 1 Axes>"
      ]
     },
     "metadata": {
      "needs_background": "light"
     },
     "output_type": "display_data"
    },
    {
     "data": {
      "image/png": "[encoded data removed]",
      "text/plain": [
       "<Figure size 432x288 with 1 Axes>"
      ]
     },
     "metadata": {
      "needs_background": "light"
     },
     "output_type": "display_data"
    },
    {
     "data": {
      "image/png": "[encoded data removed]",
      "text/plain": [
       "<Figure size 432x288 with 1 Axes>"
      ]
     },
     "metadata": {
      "needs_background": "light"
     },
     "output_type": "display_data"
    },
    {
     "data": {
      "image/png": "[encoded data removed]",
      "text/plain": [
       "<Figure size 432x288 with 1 Axes>"
      ]
     },
     "metadata": {
      "needs_background": "light"
     },
     "output_type": "display_data"
    },
    {
     "data": {
      "image/png": "[encoded data removed]",
      "text/plain": [
       "<Figure size 432x288 with 1 Axes>"
      ]
     },
     "metadata": {
      "needs_background": "light"
     },
     "output_type": "display_data"
    },
    {
     "data": {
      "image/png": "[encoded data removed]",
      "text/plain": [
       "<Figure size 432x288 with 1 Axes>"
      ]
     },
     "metadata": {
      "needs_background": "light"
     },
     "output_type": "display_data"
    },
    {
     "data": {
      "image/png": "[encoded data removed]",
      "text/plain": [
       "<Figure size 432x288 with 1 Axes>"
      ]
     },
     "metadata": {
      "needs_background": "light"
     },
     "output_type": "display_data"
    },
    {
     "data": {
      "image/png": "[encoded data removed]",
      "text/plain": [
       "<Figure size 432x288 with 1 Axes>"
      ]
     },
     "metadata": {
      "needs_background": "light"
     },
     "output_type": "display_data"
    },
    {
     "data": {
      "image/png": "[encoded data removed]",
      "text/plain": [
       "<Figure size 432x288 with 1 Axes>"
      ]
     },
     "metadata": {
      "needs_background": "light"
     },
     "output_type": "display_data"
    },
    {
     "data": {
      "image/png": "[encoded data removed]",
      "text/plain": [
       "<Figure size 432x288 with 1 Axes>"
      ]
     },
     "metadata": {
      "needs_background": "light"
     },
     "output_type": "display_data"
    },
    {
     "data": {
      "image/png": "[encoded data removed]",
      "text/plain": [
       "<Figure size 432x288 with 1 Axes>"
      ]
     },
     "metadata": {
      "needs_background": "light"
     },
     "output_type": "display_data"
    },
    {
     "data": {
      "image/png": "[encoded data removed]",
      "text/plain": [
       "<Figure size 432x288 with 1 Axes>"
      ]
     },
     "metadata": {
      "needs_background": "light"
     },
     "output_type": "display_data"
    },
    {
     "data": {
      "image/png": "[encoded data removed]",
      "text/plain": [
       "<Figure size 432x288 with 1 Axes>"
      ]
     },
     "metadata": {
      "needs_background": "light"
     },
     "output_type": "display_data"
    },
    {
     "data": {
      "image/png": "[encoded data removed]",
      "text/plain": [
       "<Figure size 432x288 with 1 Axes>"
      ]
     },
     "metadata": {
      "needs_background": "light"
     },
     "output_type": "display_data"
    },
    {
     "data": {
      "image/png": "[encoded data removed]",
      "text/plain": [
       "<Figure size 432x288 with 1 Axes>"
      ]
     },
     "metadata": {
      "needs_background": "light"
     },
     "output_type": "display_data"
    },
    {
     "data": {
      "image/png": "[encoded data removed]",
      "text/plain": [
       "<Figure size 432x288 with 1 Axes>"
      ]
     },
     "metadata": {
      "needs_background": "light"
     },
     "output_type": "display_data"
    },
    {
     "data": {
      "image/png": "[encoded data removed]",
      "text/plain": [
       "<Figure size 432x288 with 1 Axes>"
      ]
     },
     "metadata": {
      "needs_background": "light"
     },
     "output_type": "display_data"
    },
    {
     "data": {
      "image/png": "[encoded data removed]",
      "text/plain": [
       "<Figure size 432x288 with 1 Axes>"
      ]
     },
     "metadata": {
      "needs_background": "light"
     },
     "output_type": "display_data"
    },
    {
     "data": {
      "image/png": "[encoded data removed]",
      "text/plain": [
       "<Figure size 432x288 with 1 Axes>"
      ]
     },
     "metadata": {
      "needs_background": "light"
     },
     "output_type": "display_data"
    },
    {
     "data": {
      "image/png": "[encoded data removed]",
      "text/plain": [
       "<Figure size 432x288 with 1 Axes>"
      ]
     },
     "metadata": {
      "needs_background": "light"
     },
     "output_type": "display_data"
    },
    {
     "data": {
      "image/png": "[encoded data removed]",
      "text/plain": [
       "<Figure size 432x288 with 1 Axes>"
      ]
     },
     "metadata": {
      "needs_background": "light"
     },
     "output_type": "display_data"
    },
    {
     "data": {
      "image/png": "[encoded data removed]",
      "text/plain": [
       "<Figure size 432x288 with 1 Axes>"
      ]
     },
     "metadata": {
      "needs_background": "light"
     },
     "output_type": "display_data"
    },
    {
     "data": {
      "image/png": "[encoded data removed]",
      "text/plain": [
       "<Figure size 432x288 with 1 Axes>"
      ]
     },
     "metadata": {
      "needs_background": "light"
     },
     "output_type": "display_data"
    },
    {
     "data": {
      "image/png": "[encoded data removed]",
      "text/plain": [
       "<Figure size 432x288 with 1 Axes>"
      ]
     },
     "metadata": {
      "needs_background": "light"
     },
     "output_type": "display_data"
    },
    {
     "data": {
      "image/png": "[encoded data removed]",
      "text/plain": [
       "<Figure size 432x288 with 1 Axes>"
      ]
     },
     "metadata": {
      "needs_background": "light"
     },
     "output_type": "display_data"
    }
   ],
   "source": [
    "from matplotlib import pyplot as plt\n",
    "\n",
    "for key in bit_mismatch_dict.keys():\n",
    "    plt.hist(bit_mismatch_dict[key],bins=20)\n",
    "    plt.show()"
   ]
  },
  {
   "cell_type": "code",
   "execution_count": 171,
   "metadata": {},
   "outputs": [],
   "source": [
    "miscalls = data.apply(lambda x: x[\"hamm_ref\"]['BIT26'], axis=1).values>5"
   ]
  },
  {
   "cell_type": "code",
   "execution_count": 172,
   "metadata": {},
   "outputs": [
    {
     "data": {
      "text/plain": [
       "(array([2., 0., 0., 0., 0., 0., 0., 0., 0., 2.]),\n",
       " array([0. , 0.1, 0.2, 0.3, 0.4, 0.5, 0.6, 0.7, 0.8, 0.9, 1. ]),\n",
       " <BarContainer object of 10 artists>)"
      ]
     },
     "execution_count": 172,
     "metadata": {},
     "output_type": "execute_result"
    },
    {
     "data": {
      "image/png": "[encoded data removed]",
      "text/plain": [
       "<Figure size 432x288 with 1 Axes>"
      ]
     },
     "metadata": {
      "needs_background": "light"
     },
     "output_type": "display_data"
    }
   ],
   "source": [
    "plt.hist([int(item[26]) for item in data[miscalls][\"barcode\"]])"
   ]
  },
  {
   "cell_type": "code",
   "execution_count": 173,
   "metadata": {},
   "outputs": [
    {
     "data": {
      "text/plain": [
       "(array([2026.,    0.,    0.,    0.,    0.,    0.,    0.,    0.,    0.,\n",
       "        1659.]),\n",
       " array([0. , 0.1, 0.2, 0.3, 0.4, 0.5, 0.6, 0.7, 0.8, 0.9, 1. ]),\n",
       " <BarContainer object of 10 artists>)"
      ]
     },
     "execution_count": 173,
     "metadata": {},
     "output_type": "execute_result"
    },
    {
     "data": {
      "image/png": "[encoded data removed]",
      "text/plain": [
       "<Figure size 432x288 with 1 Axes>"
      ]
     },
     "metadata": {
      "needs_background": "light"
     },
     "output_type": "display_data"
    }
   ],
   "source": [
    "plt.hist([int(item[26]) for item in data[~miscalls][\"barcode\"]])"
   ]
  },
  {
   "cell_type": "code",
   "execution_count": 174,
   "metadata": {},
   "outputs": [
    {
     "data": {
      "text/plain": [
       "(array([2028.,    0.,    0.,    0.,    0.,    0.,    0.,    0.,    0.,\n",
       "        1661.]),\n",
       " array([0. , 0.1, 0.2, 0.3, 0.4, 0.5, 0.6, 0.7, 0.8, 0.9, 1. ]),\n",
       " <BarContainer object of 10 artists>)"
      ]
     },
     "execution_count": 174,
     "metadata": {},
     "output_type": "execute_result"
    },
    {
     "data": {
      "image/png": "[encoded data removed]",
      "text/plain": [
       "<Figure size 432x288 with 1 Axes>"
      ]
     },
     "metadata": {
      "needs_background": "light"
     },
     "output_type": "display_data"
    }
   ],
   "source": [
    "plt.hist([int(item[26]) for item in data[\"barcode\"]])"
   ]
  },
  {
   "cell_type": "markdown",
   "metadata": {},
   "source": [
    "So the last bit is always called as 0; fixed. was no newline at the end of the .gaf file"
   ]
  },
  {
   "cell_type": "code",
   "execution_count": 203,
   "metadata": {},
   "outputs": [
    {
     "data": {
      "text/plain": [
       "[0, 1, 2]"
      ]
     },
     "execution_count": 203,
     "metadata": {},
     "output_type": "execute_result"
    }
   ],
   "source": [
    "list(np.random.choice([0,1,2],size=3,replace=False))"
   ]
  },
  {
   "cell_type": "code",
   "execution_count": 2,
   "metadata": {},
   "outputs": [],
   "source": [
    "import csv\n",
    "import numpy as np\n",
    "import os\n",
    "\n",
    "from matplotlib import pyplot as plt"
   ]
  },
  {
   "cell_type": "code",
   "execution_count": 10,
   "metadata": {},
   "outputs": [],
   "source": [
    "inpathlist = [\"/home/de64/scratch/de64/2020-10-18_snakemake_2020-09-24_oDEPool3/graph_output/\" + item for item in os.listdir(\"/home/de64/scratch/de64/2020-10-18_snakemake_2020-09-24_oDEPool3/graph_output\") if item[-3:] == \"tsv\" and item[:4]==\"read\"]"
   ]
  },
  {
   "cell_type": "code",
   "execution_count": 12,
   "metadata": {},
   "outputs": [],
   "source": [
    "### Get Barcode Histogram ###\n",
    "\n",
    "barcode_dict = {}\n",
    "for filepath in inpathlist:    \n",
    "    with open(filepath, \"r\") as infile:\n",
    "        next(infile)\n",
    "        for line in infile:\n",
    "            data = line.split(\"\\t\")\n",
    "            barcode_dict[data[0]] = data[1]"
   ]
  },
  {
   "cell_type": "code",
   "execution_count": 16,
   "metadata": {},
   "outputs": [],
   "source": [
    "barcode_arr = np.array(list(barcode_dict.values()))\n",
    "unique, counts = np.unique(barcode_arr, return_counts=True)="
   ]
  },
  {
   "cell_type": "code",
   "execution_count": 26,
   "metadata": {},
   "outputs": [],
   "source": [
    "vmin,vmax = (2,np.max(counts[counts]))\n",
    "nbins = vmax-vmin"
   ]
  },
  {
   "cell_type": "code",
   "execution_count": 28,
   "metadata": {},
   "outputs": [
    {
     "data": {
      "text/plain": [
       "5078"
      ]
     },
     "execution_count": 28,
     "metadata": {},
     "output_type": "execute_result"
    }
   ],
   "source": [
    "nbins"
   ]
  },
  {
   "cell_type": "code",
   "execution_count": 34,
   "metadata": {},
   "outputs": [
    {
     "data": {
      "text/plain": [
       "1277.0"
      ]
     },
     "execution_count": 34,
     "metadata": {},
     "output_type": "execute_result"
    }
   ],
   "source": []
  },
  {
   "cell_type": "code",
   "execution_count": 40,
   "metadata": {},
   "outputs": [
    {
     "data": {
      "image/png": "[encoded data removed]",
      "text/plain": [
       "<Figure size 432x288 with 1 Axes>"
      ]
     },
     "metadata": {
      "needs_background": "light"
     },
     "output_type": "display_data"
    }
   ],
   "source": [
    "vmin,vmax = (0,int(np.percentile(counts,99.9)))\n",
    "nbins = min(200,vmax-vmin)\n",
    "\n",
    "plt.hist(counts,range=(vmin,vmax),bins=nbins)\n",
    "plt.yscale('log')\n",
    "plt.axvline(200,color=\"salmon\")\n",
    "plt.show()"
   ]
  },
  {
   "cell_type": "code",
   "execution_count": 67,
   "metadata": {},
   "outputs": [],
   "source": [
    "data = pd.read_csv(\"/home/de64/scratch/de64/2020-10-18_snakemake_2020-09-24_oDEPool3/graph_output/inv_codebook.tsv\",delimiter=\"\\t\")"
   ]
  },
  {
   "cell_type": "code",
   "execution_count": 49,
   "metadata": {},
   "outputs": [
    {
     "data": {
      "text/plain": [
       "0          0\n",
       "1          1\n",
       "2          2\n",
       "3          3\n",
       "4          4\n",
       "        ... \n",
       "3718    3718\n",
       "3719    3719\n",
       "3720    3720\n",
       "3721    3721\n",
       "3722    3722\n",
       "Name: barcodeid, Length: 3723, dtype: int64"
      ]
     },
     "execution_count": 49,
     "metadata": {},
     "output_type": "execute_result"
    }
   ],
   "source": [
    "data[\"barcodeid\"]"
   ]
  },
  {
   "cell_type": "code",
   "execution_count": 61,
   "metadata": {},
   "outputs": [],
   "source": [
    "test = data[\"readlist\"]"
   ]
  },
  {
   "cell_type": "code",
   "execution_count": 77,
   "metadata": {},
   "outputs": [],
   "source": [
    "inv_barcode_codebook = {}\n",
    "for _,row in data.iterrows():\n",
    "    inv_barcode_codebook[int(row['barcodeid'])] = ast.literal_eval(row['readlist'])"
   ]
  },
  {
   "cell_type": "code",
   "execution_count": 79,
   "metadata": {
    "collapsed": true,
    "jupyter": {
     "outputs_hidden": true
    }
   },
   "outputs": [
    {
     "data": {
      "text/plain": [
       "['a34525e8-c6f5-426c-8c65-75dcba4c148c',\n",
       " '683adc73-2b80-4f89-bfc0-d7d3835e16a0',\n",
       " '62ceb17d-fe23-4db0-8710-59d06eceb5dd',\n",
       " '273f62c7-6c03-4650-9d9e-95333448d860',\n",
       " 'a03fc8d4-c3d4-4bef-8818-f55c46750d6a',\n",
       " '003e0bea-2622-4c34-96ac-0e3e061374ed',\n",
       " '28002711-e7a0-46ad-b6a3-34c0ff4e7845',\n",
       " 'dd682a90-8616-4f91-a0d4-dcf406521591',\n",
       " '3744ab47-5a14-491e-87b1-8b7fa3425418',\n",
       " '40c40c3e-5c9b-4477-b677-7f567c9cab3b',\n",
       " '6eb0d92f-2a50-4dc7-bf7c-b1dfdbe4f70a',\n",
       " 'a381933c-2c3a-4a42-89c6-ca4398961461',\n",
       " '3d089c9d-549e-479c-8e35-b79bb309a7f4',\n",
       " '71945236-b364-4a46-9f91-7b8b8e032f77',\n",
       " '4b9f4021-638d-4d61-8d32-c0c5ed22d526',\n",
       " '0c06352b-95a0-4365-ba23-aa20b0bb5e49',\n",
       " 'fa0d4a45-c396-4892-9fdd-0391bb9297d5',\n",
       " '107c2096-6c20-4744-a6ee-1873f5b43530',\n",
       " 'e1dc495e-de08-4136-b402-5ccaff1146a4',\n",
       " 'beac6f90-9a47-45f6-ae71-c13eaeab9776',\n",
       " 'e6765dc9-434c-456e-a643-12beacd64b89',\n",
       " '4ccb21dc-e26c-4747-88d0-cdbafed468a8',\n",
       " '1d08381f-e8a0-400a-a101-502cc7119961',\n",
       " 'd165bea2-200e-4ced-b14b-e8a1ac42382b',\n",
       " '6c7a41c8-b458-4f60-a145-e60dffa00d80',\n",
       " 'af1aeeee-6534-46d6-92d6-2394ca092a2c',\n",
       " 'b05d6840-aeb5-4669-b492-ed938f4856cb',\n",
       " '08469bd0-f6b0-4508-9167-41f7fbbfc084',\n",
       " 'b37e48e6-0585-4e46-ab08-465c6b6737b0',\n",
       " '7c20ec16-7137-4fe7-afea-9da8f622ed86',\n",
       " '4601e8dc-bcd0-45ee-9108-e2cb617ae901',\n",
       " 'da9e2674-c7b9-4ea0-92f3-c75e047ebfba',\n",
       " '431063fe-1bc6-4418-93ad-1708acc73f99',\n",
       " '86b8592e-5c3e-4aad-b0cf-fbeeb2ce1f67',\n",
       " 'd7768d91-ae75-402b-9955-a9e7ba36e312',\n",
       " '1c298f31-3924-420d-8006-c4fedabf4b22',\n",
       " '5845f2f2-2e62-4d5d-ad8d-be865a3444e1',\n",
       " '4de3e7b6-0e4b-44f9-92c9-682355eed2dd',\n",
       " 'a22d7f6f-cf1c-4f73-82fc-20179d86e57a',\n",
       " '3625e57a-0aab-48d2-9be7-2234107df212',\n",
       " '69c8fd73-678c-4044-8cfd-5bc20dc595f6',\n",
       " 'c5fcb056-a425-4a5f-8a28-6232f16d11b3',\n",
       " '1723a66a-74a9-4c05-b4cf-68941fe0dfdf',\n",
       " '214b9342-cffa-4218-afd2-ae60f71e9089',\n",
       " '1de63ad0-add9-458b-9d5a-3e4794046c19',\n",
       " '15aad20c-8046-41d8-a313-6b5c84920c8c',\n",
       " 'c7985e96-c10d-4023-884d-c90c97887768',\n",
       " '0f2d7660-1c78-46a6-9cd7-85641b482106',\n",
       " 'fe6adb5c-be56-4a29-ab1d-f6eaf167ce26',\n",
       " '258cf263-4a9c-477f-b928-8e6f8a70f108',\n",
       " '9860dfe6-4049-426b-aec3-681c8c41f0b7',\n",
       " 'cdd5ac8c-0405-4d43-86d5-e230765f743c',\n",
       " '341b1dda-fac1-44b2-a08a-f3df7a45528d',\n",
       " 'fcbaf3dc-deb3-429d-8f98-271fe5cf22bf',\n",
       " '2af3304f-ce7a-47ed-a3cb-6bef522b5f2b',\n",
       " '5e83327a-e004-41a3-b4d9-9805c952befd',\n",
       " '1e9f3ced-133c-4d02-9094-0303c3e948a2',\n",
       " '3398243f-da74-4185-a9da-f076bbb0f11a',\n",
       " '20286c38-829e-43f5-8a8f-1b388ea9a3ae',\n",
       " '12e48551-ebd6-4dd5-90a0-3d6ad03dfbbe',\n",
       " 'da2fede6-7e11-4fd9-ad3a-7e30d7c64c55',\n",
       " 'f739f900-9ca0-41f2-abf5-a2f62cfdd0c7',\n",
       " '04d3a2e8-0125-4802-86b4-5812da1b9920',\n",
       " '576ee316-f610-413d-bfd2-864bf3ac9662',\n",
       " '1ef23fd7-e847-4626-850f-33781a53f592',\n",
       " 'ab51b783-eee7-401a-b620-07c7eea931d1',\n",
       " '67d0e456-40a9-4443-bb6d-91bc5ac7e269',\n",
       " '4ee7c223-54ec-4f17-8ab4-59f7327d58eb',\n",
       " '663b2456-6d54-45f0-af95-72d30c1adff3',\n",
       " '1c6db02f-db17-4920-ae9f-64b2b994739e',\n",
       " 'f72d42e5-7300-4f73-b66b-1181a1323179',\n",
       " 'b7a3090b-b75f-4bf3-901e-8c292246298b',\n",
       " '6d2826c5-d76e-40c8-b2b6-b843eb776b2c',\n",
       " 'afadedeb-4b58-4670-9649-dfd9214bdb13',\n",
       " '7709f908-1599-45d8-b23d-61ea9205a293',\n",
       " '6a2599a7-7dee-4ec5-b607-9f0eaf35e2ba',\n",
       " '97bb5dc1-18d7-4fb2-8972-83b0f6051257',\n",
       " 'b1e00bd6-fa82-4412-8a7a-a2fd3b474358',\n",
       " 'de9648a0-05d1-4d3f-aa5a-968e136e28b0',\n",
       " 'c63f15f4-3ff1-424f-ae66-0d0246ac14af',\n",
       " 'a2e9a448-058a-4f89-b370-9a62012f4b5b',\n",
       " 'dce945c4-d9fd-4399-8aa9-cc05e313a0dc',\n",
       " '379f13a4-612f-4c4d-90a6-8bb2e27dbd0f',\n",
       " '3b4dab64-15f0-4bbe-9231-5bed5c89d188',\n",
       " '3df3b413-b19b-4284-9289-d48213ccca35',\n",
       " 'df0eff1b-704a-4d53-b0ce-3772365aad87',\n",
       " 'cad00d65-68ad-4984-89cb-3be13dcc12e2',\n",
       " '9a21d05f-b0d0-4555-8c15-f6d75365aa4d',\n",
       " 'b41775b9-fd6d-479f-84c5-a7d64c6118af',\n",
       " 'ce68282b-72a8-4b05-bab8-7c292c09b53c',\n",
       " 'fe37ce50-0189-485a-9710-53d9e1f6ae93',\n",
       " '9818ff1a-6578-42b5-a09f-2a1f50cd4c24',\n",
       " '0d83626e-2a6b-4ef9-a637-3fb0c571230c',\n",
       " '7162917d-71e0-4763-8563-8ab3c3af3852',\n",
       " '9c182e5a-9f35-4347-81f3-f63419759423',\n",
       " 'e8b4f9d1-6147-4d36-9a49-04b59a2bdb7d',\n",
       " '9b05c504-44f4-4e23-82d8-4b2eb2537b53',\n",
       " 'aa4a8184-17b4-4926-8cf5-efacedfce930',\n",
       " '81f24c40-d9f3-47ae-9978-0afbc3375267',\n",
       " '60e3b013-7f7c-476c-88d7-4abd066edd59',\n",
       " 'f496c3ca-fbd9-4649-8c2b-ba88971e0fca',\n",
       " '7894f53b-5021-436b-b081-82d22367c629',\n",
       " '72e811fe-93a7-43c4-9934-8152b2fe6ec3',\n",
       " '689ef81f-fca9-49a1-a087-2fa58e4c3a2b',\n",
       " 'dc32ea65-eee0-4bbc-aec7-a3cfc69676ad',\n",
       " '2ce6bad9-deef-430a-9536-170c218eda44',\n",
       " '0bf5e996-a91f-422a-b47d-44a963f5a5f5',\n",
       " '855c59c3-599c-4bb1-977e-9c0f8e1f98ef',\n",
       " '1d55265f-4263-4295-9a02-1c6b1d04bb5d',\n",
       " '28789061-f59c-478c-9ac4-bc158f373ac7',\n",
       " 'e17c53ed-8968-4dbd-9552-ba137cc4566a',\n",
       " '46b4adb2-497d-483f-9b3e-19105215dea8',\n",
       " 'cf76fdd6-ec56-4f5c-b1b9-2bc0ea3adf48',\n",
       " '3e3eb08f-1689-4b87-9822-9587dd1a15e3',\n",
       " '0f1a81a3-0308-4ad8-9d65-7cc30faddcfc',\n",
       " '62bced44-dc39-40c9-96cc-fd81932df5ae',\n",
       " '6824f801-3904-426a-a907-c2e8f4ffdd9c',\n",
       " 'f4eeb636-c6f5-4036-8e54-0f9d95579e3f',\n",
       " 'ade499e1-8999-44f2-9f1e-6672aa42fa5a',\n",
       " '870af275-b312-4ea3-96c8-756a57fdb2be',\n",
       " 'f3758b16-f1b9-4c11-b545-41ee6a3891e8',\n",
       " '802b6a03-b7ce-49dd-99dd-b03bcd794709',\n",
       " '63973ef2-99c8-4934-a53a-472530ca43fb',\n",
       " '3acf8973-59ee-41bd-9912-a7efa17ed4b2',\n",
       " 'f8963cb5-55e6-44c0-be96-fe31d9189860',\n",
       " '5d50c2fe-8767-464b-888c-e69a2c11850a',\n",
       " '4c5b5923-19e5-4a15-a7f4-8ba00d1e8f23',\n",
       " '4d8f8cb3-603d-4f3b-a4f1-1ca8fdd6c57f',\n",
       " '02f80a0b-2c5b-4110-90df-7ff514649c0d',\n",
       " 'b0fef8ab-fa50-4d01-96ff-a557f2f7c976',\n",
       " 'f1b9e17a-9516-4a9c-b4d2-c648f04a5c11',\n",
       " '3ba81ff5-d432-491d-9f71-cce11234413b',\n",
       " 'f89c112d-3cbd-4931-aace-95ea6b80f2fd',\n",
       " 'd6e257d5-9896-4aed-8d02-0a20e95c9e70',\n",
       " '2f95359d-0090-479a-a4c1-c30d9a11442c',\n",
       " '86fd1c86-284c-4b00-b5e3-d8beef7b4621',\n",
       " 'ed9de96a-4aaf-4c27-b4b0-1d7f795fe75e',\n",
       " '85059ca9-9423-4979-a035-6d72e0e0fa00',\n",
       " 'b23477e9-05eb-42db-b1f3-1e223b251e4b',\n",
       " '62b99be5-ea57-4675-b2a0-56785fef5354',\n",
       " 'b804923c-1743-426f-917c-4ab2a8559a2e',\n",
       " 'a79497d3-99a0-4555-a5ea-cb378f8f5b31',\n",
       " 'd4107c06-67eb-4fc2-9083-a62499b5f0f8',\n",
       " '07eda107-ab5b-4562-a6fc-961cdddfc2b4',\n",
       " '2b707b79-427e-427e-88e1-a8850381ee5f',\n",
       " 'f507e590-2687-42cb-be1a-32aacead6dde',\n",
       " 'a978611b-e5df-47fb-90e4-ee9ab3b4ece2',\n",
       " '80d21879-a605-4a8c-9740-755c61fa50fd',\n",
       " '318c7bc1-1d40-426c-bb83-5b10279d478d',\n",
       " '212a6b5c-826a-46b2-af6b-dc6186c9c497',\n",
       " 'a5e73099-1225-43b1-bb5f-ccf80fbf2a4a',\n",
       " 'af618fa9-7e27-4789-96ad-4f9697f0f6ee',\n",
       " 'ba90d294-337e-4e4c-a032-ab6299bb4ad0',\n",
       " '3e8ad955-3c58-452a-849a-1c231a6b1579',\n",
       " 'd6f38039-f884-4455-8103-4c2191df06c5',\n",
       " 'da3fe80e-cbc4-46c9-9b16-d2e5908b7a4a',\n",
       " 'fe1336e0-7232-43d0-b0b0-e4c10abbab57',\n",
       " '59af70d4-723d-4692-a771-64c0ccbaf335',\n",
       " 'b911c15c-db5c-474a-839e-693693c9ec1a',\n",
       " '72e3ea0a-6588-4da4-9feb-9908350b0cf4',\n",
       " '1409ac87-d395-43bb-9d9c-2ecf9283dddc',\n",
       " '106bb697-6ba1-4d0c-be2f-8985fe5dd500',\n",
       " 'b7df5640-de56-47f9-bf1a-5b6dc991339a',\n",
       " '3b2fc2af-2dcd-45ee-913b-6b895b67f6c6',\n",
       " 'deca2d97-3199-4380-bb48-88dcc28fb87f',\n",
       " 'a1d96b1c-e635-4b78-866f-1d31e5c07d11',\n",
       " 'cbf93cf3-7b4d-4195-8a22-20c3ba72a3c9',\n",
       " '6a2f80f2-b2b5-4384-975e-bff87581bb34',\n",
       " 'f72b6d08-685b-4ff9-a248-de6f635e6c05',\n",
       " 'ea5dcbc6-890d-4371-adab-a8f33e50dfee',\n",
       " '9dcad095-e421-49b8-b074-fcc1908eb56c',\n",
       " '41f48c68-e5c7-499f-a70a-722d694fb664',\n",
       " '1766d6dd-f214-41ed-9ed8-9db644af0328',\n",
       " 'eb109b53-fc74-49f6-b0ef-999a0e21466d',\n",
       " 'e3017aad-9d82-4f77-937e-99cc8c6b70a9',\n",
       " '33078333-2645-4021-b61a-d5cde4c172ca',\n",
       " '6238392b-e64f-4533-82bc-2f0c12ef419a',\n",
       " 'd646ada8-2a55-4106-a78e-16b505628828',\n",
       " '3a10a125-cf15-42fb-a5d6-7650d9ac3f67',\n",
       " '014578ba-788c-48e1-b349-621c2902b66f',\n",
       " 'c82d6c1d-cbf3-4d55-a899-5d608e2f155a',\n",
       " 'b2d5f57f-0e10-4237-8b34-cb9c5dbbc6cc',\n",
       " '421d9c5e-65ad-46c1-ba07-2b2bab1dd08c',\n",
       " '648d8365-e6a9-4d01-b34f-04136fae2807',\n",
       " '97f20d34-665f-454a-84f8-de09bb9154e5',\n",
       " '630e5ba2-e56e-4628-b6a5-048f28442966',\n",
       " 'b1806a98-8c26-4089-8165-ebd67731b997',\n",
       " 'be1cadf1-7d93-4985-974d-f47206739ac0',\n",
       " '0974cea7-638f-4c17-8dd1-f6ae4f776a85',\n",
       " 'd7046965-6dc6-442e-99ee-02fdc37147c4',\n",
       " '1045169a-b099-49e2-84f1-7262607c514e',\n",
       " '02c8904b-4f7e-4e26-918c-1aa81165b18d',\n",
       " '049fb412-2db8-4852-bc15-af9e3fe857bd',\n",
       " 'f6cbe172-b453-4156-854d-4cb4c46fc492',\n",
       " '9a225eea-864d-4e9f-bf94-37670ffbc9b1',\n",
       " '384ae3da-bd2b-44d0-bcac-ae0eb5e536ec',\n",
       " '7ceed0fd-c5ff-46bc-a16e-424d64dba858',\n",
       " '9c7f61eb-c746-4ab7-b094-276bfe690d25',\n",
       " 'b8f719a0-576d-40fa-afe3-9f6847fd1f82',\n",
       " 'a10c9d98-4815-42f7-ac34-1062590bbebe',\n",
       " '2582efa7-bf7c-4112-8eaf-dd08cfb526e8',\n",
       " 'f6e91535-2337-44a0-8ad0-c0277d34643d',\n",
       " 'e814a397-0f3f-4fa4-a7a7-57605f04cb1b',\n",
       " '3b802594-31e2-4844-b2cd-34f7ab706348',\n",
       " 'f23c56ad-b753-4a60-8405-e929a3567391',\n",
       " '9585c0b9-47bd-469c-9ef7-dd571274d32e',\n",
       " '21cc5ab3-f755-4f19-9e64-6c208ffb1e6f',\n",
       " 'e3806d15-901a-40e1-bfb7-3f6149834fd4',\n",
       " 'c1486f40-6aba-4bf6-9d77-f7f84878bf15',\n",
       " '45a4b6a4-8ad8-49af-a967-7c108493b0f6',\n",
       " '4cbc5d8b-5a4a-423f-b0b3-da456c4956b2',\n",
       " '7a9a9b42-c971-4590-b271-7ac4b1cd0a7d',\n",
       " 'af0b6eb5-dca4-49ff-8873-220a059c371e',\n",
       " '6240a52e-1176-4e28-a0ee-66713fd45769',\n",
       " 'f2e3d9c9-82fa-46b4-a86d-31d03e235661',\n",
       " 'e68db2a8-b7d3-43c8-bb15-9739e0638b1d',\n",
       " '3358031a-4b6a-4b23-9a98-81776df363de',\n",
       " 'a5d01ad6-c2a2-4562-b509-badfc7cf1046',\n",
       " '8be1b02f-2dcf-4ab5-87e9-f1c58cbd4b85',\n",
       " '054d777d-8d29-4e1a-ad73-27fabfcd2fa1',\n",
       " '6812d872-a630-40cc-b200-e53717f8b1e8',\n",
       " '7532e200-48f5-47b2-925c-b5ada07833dc',\n",
       " '1b9c4c7e-1bdc-495a-90f1-38b548dc968b',\n",
       " 'b0c9c839-9b0e-41c2-b16e-4d799ea9b64d',\n",
       " '08b69b8e-53f4-465e-853d-2a47f225ebfc',\n",
       " '95ead8c7-2a1f-4f00-ba3d-d92a93f5fead',\n",
       " 'd7f6bcbe-80cb-4bc9-8ae3-1709bc0532e3',\n",
       " '6fde5ae1-e7f8-4af5-ba37-8e03a488eb86',\n",
       " 'a852873e-1613-4ce9-8507-c766df740657',\n",
       " 'ca154604-53bc-410b-a58e-c0383d1a66cd',\n",
       " '5b5ebc8b-4279-40bc-91b3-1f1bdc814bb1',\n",
       " 'cc7bc486-c43a-4903-a032-cb86ce09a2d2',\n",
       " 'e052759d-fada-40b3-915a-ca27ccd1afda',\n",
       " 'f897b9fd-31c8-4703-937f-0f306465142b',\n",
       " '548576e2-5453-4244-ac95-2f1b76dfe015',\n",
       " 'ced8dad6-6793-4b19-9d3d-390b99dfb2ef',\n",
       " '5b2d38a8-04b6-47a1-a396-021f59ab4a05',\n",
       " 'd758f8da-57b8-49bd-9ad4-cadd84c0b310',\n",
       " 'd96a7325-4de1-4026-8bac-38396868bb64',\n",
       " '02b00f63-358f-44e1-9a6a-1693967b749b',\n",
       " '6b3160c2-a3b4-40a9-9c8a-fdbc82ee9c86',\n",
       " '158249f9-d013-4f52-9197-f5e0a726f5c0',\n",
       " '2c9495a8-958c-4007-9f29-642cbd2d247f',\n",
       " 'b594e21a-1944-4acc-b932-cd2db59b2e86',\n",
       " '400f9a96-4b8f-40ff-97db-d17e483c2eec',\n",
       " 'bc1587c4-6973-49fc-8cc6-b313a682ba7c',\n",
       " 'c512bb03-b671-44dd-8b2c-8ef0908140d3',\n",
       " '9166134e-5e80-4af9-b972-d1bb68f2ffd8',\n",
       " '4c069972-322f-4323-98cc-8219ab2e33ec',\n",
       " 'a5b24cc0-b361-49c7-abf5-80f30220f69f',\n",
       " '9d4c99b6-6c83-4d7f-a248-647aef1b0123',\n",
       " '37019fb9-f5c0-4fb1-aeeb-acbc3b024ee9',\n",
       " '80b8772b-8739-4971-986c-63505c5ff9d1',\n",
       " 'f5a98a6e-6de8-4917-9df8-c9a030b3c43d',\n",
       " 'fb07a54a-b158-4f72-82f0-5a249291c272',\n",
       " 'a6acf544-938e-413b-ba3d-c4222f1509fd',\n",
       " '81ab61a5-d216-4855-abbc-2c98e1367259',\n",
       " 'c8d8aff4-0ecb-47ba-bf5b-9bad4ab6c76c',\n",
       " '96459664-9832-450f-b979-ff4e7eea9cf1',\n",
       " 'd1d6003c-cb2f-427a-9d05-5837fb6300a3',\n",
       " 'b7f5a3f9-a254-4f31-941a-4e0305e470df',\n",
       " '50dd0f51-6b54-4542-90fe-1443242d0bd1',\n",
       " '000ecac8-bc4d-4d93-9311-93154f2465ac',\n",
       " '05bae097-4598-4992-ab84-9c939ce46820',\n",
       " '509e9597-2492-4189-bcb5-68f51639fd0e',\n",
       " 'dbc4769c-4ad5-416b-91f7-a85cea304a11',\n",
       " 'c7324803-2b61-4d90-b48d-2d0d34c45a9a',\n",
       " '83d91434-b876-4d45-907c-798ab5f38f55',\n",
       " '347b6202-651a-468d-ab23-39d786169d32',\n",
       " '37876bf5-a0d4-4f0a-a627-001c64241a96',\n",
       " 'b380f094-f2cb-47a8-a12b-bac42a50cf6a',\n",
       " '5a1b3f0f-f784-4ef8-9b1d-83b0ed5fe81f',\n",
       " '605105d7-cbf7-45ae-b9ce-acb38dc084bd',\n",
       " '0dadcaaa-2217-4200-b500-be8763b37e22',\n",
       " '6627958a-1f3d-4499-992e-d6f82afb040e',\n",
       " '9cd51932-ef2c-46bd-b3a2-d9b8e0c032ef',\n",
       " '46eb1f37-301d-4d43-ad32-e5599f318eec',\n",
       " 'b5eabe86-8c17-4b20-b262-12f04d8167eb',\n",
       " 'c57ae67f-907f-456c-a52b-069399b79a47',\n",
       " 'a63cb4c8-ae71-427a-bca8-ecdce6067d72',\n",
       " '886415cb-d2f4-4912-9e3f-1bcfec6a0d4f',\n",
       " '402f7b77-a201-4db0-b40c-f5183f690b30',\n",
       " 'ac240f72-da33-486c-8342-8cc0ed1eb7eb',\n",
       " '0507af8e-4ffb-44c0-b54e-f03941b202e6',\n",
       " '2c92f1b1-a78f-4840-a324-db82bb70c934',\n",
       " '23410aa2-7bfc-4447-be6d-15a7439a86e7',\n",
       " '50f8c20c-a660-4ba1-956c-6d3810f7f68c',\n",
       " 'fbacaf8a-8894-4106-af1c-1495990ac021',\n",
       " '4936d371-1521-4487-bbe8-36ddc065f9e2',\n",
       " '4a921268-dadc-4537-a5bd-cc774d269189',\n",
       " '3f484b8e-e9b3-4d4f-9c57-d10cb4295d89',\n",
       " 'e1922715-0084-4c6c-a447-b3a39b6a7c46',\n",
       " '410fe067-35f3-4afc-9fbf-6cc3460143ae',\n",
       " '076ff4d2-3733-4891-8f14-dcfa76f6768a',\n",
       " '63b0412d-1d61-4110-9b64-b51760489bf4',\n",
       " '70214df1-fb2e-4e5a-b332-87b116b09c34',\n",
       " 'ea4d7bf6-8cd7-4d53-b1c4-17a87dc7aeb3',\n",
       " 'fdfe549f-d453-4d37-9490-1b3343a563da',\n",
       " 'a2c48792-376f-483f-9fcc-76c082f997ce',\n",
       " 'ed587dfc-52dc-479b-a1d1-f26c4ace6e2f',\n",
       " '534fb509-3150-43db-854b-f26b34790ef4',\n",
       " '4459f100-2b3d-4503-a7c1-5f6fc1564738',\n",
       " '2e35349d-8c0e-4394-91a2-5b66742a7206',\n",
       " '70937c7d-d459-4083-b7cf-67f58631be6e',\n",
       " '985c02a0-758e-460e-a075-b74b7a4668d4',\n",
       " '286728b6-fe38-4f52-aa89-d5adb829a9ba',\n",
       " '6d0f8622-5cea-4897-8a78-93384f4904ed',\n",
       " '75a6cee9-a7c1-46ff-be35-74481f1d2147',\n",
       " '4db2d0ac-270d-4bc9-8097-fa8ef4bf9b17',\n",
       " 'd3325a20-5cab-48fc-9c37-45a979cefff5',\n",
       " 'd6624f27-91e2-41fd-8be3-baa1ecfdaf10',\n",
       " '0e97d017-9015-42a7-b561-eb264e1bf633',\n",
       " '499558e0-2623-4c3d-aa1a-d75b95148515',\n",
       " '9cc9c946-dd59-4558-a243-90f8e5585108',\n",
       " 'f231f28b-6e1e-4b65-8ce1-dddc096037e1',\n",
       " '7841cc30-d11e-4f64-9797-2cc59531f3fd',\n",
       " 'ecd657e1-91d3-4c89-81db-c24d58d6fc2d',\n",
       " '96dddc13-6605-4dea-a170-fa017c0b617a',\n",
       " '8110357c-3ef8-4ff7-b387-e1a1e32eb429',\n",
       " 'b7682779-d255-452c-93d7-4916dd0c0edc',\n",
       " '50617a9a-b887-4d75-a2cb-d4fb54190ac4',\n",
       " '99453b31-dade-4a9d-9fda-25ad009231fa',\n",
       " '514c5aaf-4f00-43ea-9a54-a4ec9df46c1c',\n",
       " 'd1bee93b-faba-4b73-a328-78df66b68dd5',\n",
       " 'e97cccf6-566c-48f0-9253-9778ee8f4877',\n",
       " 'c21bee19-1126-411d-9e01-ed754327960b',\n",
       " '0d8a54ca-d48e-4074-869f-31bfb0e07d30',\n",
       " 'db8a4d7b-78a2-442b-b4ef-c3f3a849bfd6',\n",
       " 'c53b0062-98e8-465b-b568-bf932daa26bb',\n",
       " '4c2f14d5-156b-4a75-b7a9-6d816e439e69',\n",
       " '221b4250-54a8-4756-bbf9-d021c8a0e970',\n",
       " '7b7f491c-d043-4fb9-aeb4-5b9868078c47',\n",
       " '27821abd-2d41-4d79-9c5e-f3f9175f21ef',\n",
       " '95905db1-af11-4144-aacc-2927e92f9700',\n",
       " 'debfb1a7-deec-4838-ac6c-0d346bfb56c7',\n",
       " 'b4ef3882-5d30-4261-8ccc-21e8817e0d3a',\n",
       " '07bd7acb-41ae-4dd9-94dd-593fc1be199e',\n",
       " '4aa9d112-3de2-4884-9e81-c6db14c18023',\n",
       " 'b32568f2-01bf-4b2f-a2ee-0f9bcdab0aa2',\n",
       " '3a3f562f-9986-4905-aef8-e0095753c8c9',\n",
       " 'a668a59b-350a-4de0-a307-26715b7d80d3',\n",
       " '403e8059-1b7a-413e-9c34-a5c9077596d8',\n",
       " '6cb79297-8b27-4a44-8d73-33539622939f',\n",
       " '4c35d72f-41b0-405e-8d46-d1231fd5bef8',\n",
       " '4a3b09b5-ffd5-4e88-b99f-cdba50de0645',\n",
       " '3083c150-4c54-45e6-a069-dbeccb354d33',\n",
       " 'b2f4133b-0e45-42d1-a577-6872c30380ac',\n",
       " '7f10e4e5-80f4-4614-901d-0fa1961387db',\n",
       " 'f9df1ad4-fe17-4609-8876-1575d44d74d0',\n",
       " 'ee2616d9-0664-4e7f-af82-eff45d8ba7d8',\n",
       " '7ca3877d-49e4-43f2-ad9e-3d092a52d0e1',\n",
       " '0e165fb1-48ab-4b73-a241-366651ecd52f',\n",
       " '7adddf81-b94d-4fc7-8fd2-92d9c1ea50a5',\n",
       " '7efc4d1a-97af-476e-b3e6-3d1531d0159f',\n",
       " '06e7290e-ea43-43b5-a874-2dba6da296e2',\n",
       " '7ec13898-97ec-4ecc-9a57-fb9b4e48b258',\n",
       " 'a63724f6-89a6-418d-8af7-3d5a9170655f',\n",
       " 'ae28cebd-6885-47d5-8373-4255948a3316',\n",
       " '4e68438d-23ea-4a43-91a8-3794908823db',\n",
       " '5af4d0a3-192e-4d80-99b4-74b21f59070e',\n",
       " '5a53ff05-3538-4ceb-951e-dbd1bf58e1c2',\n",
       " '2b4e692d-67bf-405b-b175-06c2ea230757',\n",
       " '563a0a86-b747-4afc-a864-cf310e5c957b',\n",
       " '558d5cc5-343c-4b74-a2b6-1fb3a753df4d',\n",
       " 'd347b2ea-7ca4-4930-8a16-a9807d016d3e',\n",
       " 'c91e8f25-980b-402c-9f1e-e2b6e7ef61a3',\n",
       " '5df4b853-2d51-41cf-b56b-fb55ddf8a85a',\n",
       " 'b048c7c0-7246-401f-bf43-1a2d8337ec49',\n",
       " '3b026967-3d80-4e78-b030-14f1d4409547',\n",
       " 'e5a214d6-cd6f-4499-b64a-ca58c00d19b4',\n",
       " '406314b8-2cd1-4eec-9a0e-07f581000baa',\n",
       " '9bcf392e-d6c6-499e-913c-9db1e8f0ee58',\n",
       " 'e0a1fb9f-3ae9-40d6-929b-63927d087b6e',\n",
       " '17773eb8-fcf1-4652-a10a-3af5eb8b436a',\n",
       " 'd00d8114-1510-4b5f-8f70-20ed85b4fd3d',\n",
       " '587b38f8-f55f-4648-99f3-686a34816650',\n",
       " '0efa3713-de8d-45ac-98eb-bf0422dbd1df',\n",
       " '1b9805f7-b20a-41df-a3a2-a4087e1d8edb',\n",
       " 'cdb66c23-7567-40f7-af26-bb7a046c0d89',\n",
       " 'ecb22501-3085-41d0-bc4c-c7dbf42a67e2',\n",
       " 'e0553cbc-c37d-4e1a-a55e-26c2f38dc010',\n",
       " '4c7daef8-ebe2-4863-8440-1d77c7c6203e',\n",
       " 'f1a70033-1338-427a-a95f-84ac03f3f121',\n",
       " '8a11da8a-edc8-473d-a13b-5ffc314f97e1',\n",
       " '1f48c4f9-d641-4ceb-be66-9f34da1bfaf1',\n",
       " '7601969b-063b-4485-a5e1-082ccad56bcb',\n",
       " '0985858d-ee54-4d73-972f-6cf4444d7056',\n",
       " '01abcda7-5dc5-4212-a2bb-d1fdd0e29236']"
      ]
     },
     "execution_count": 79,
     "metadata": {},
     "output_type": "execute_result"
    }
   ],
   "source": [
    "inv_barcode_codebook[0]"
   ]
  },
  {
   "cell_type": "code",
   "execution_count": 84,
   "metadata": {},
   "outputs": [],
   "source": [
    "d = {1:2}\n",
    "d.update({3:4})"
   ]
  },
  {
   "cell_type": "code",
   "execution_count": 85,
   "metadata": {},
   "outputs": [
    {
     "data": {
      "text/plain": [
       "{1: 2, 3: 4}"
      ]
     },
     "execution_count": 85,
     "metadata": {},
     "output_type": "execute_result"
    }
   ],
   "source": [
    "d"
   ]
  },
  {
   "cell_type": "code",
   "execution_count": 90,
   "metadata": {},
   "outputs": [
    {
     "name": "stdout",
     "output_type": "stream",
     "text": [
      "making fastq dict\n",
      "finished making fastq dict\n"
     ]
    }
   ],
   "source": [
    "print(\"making fastq dict\")\n",
    "record_dict_list = [{1:2},{3:4},{5:6}]\n",
    "record_dict = {}\n",
    "for i in range(len(record_dict_list)):\n",
    "    subdict = record_dict_list[i]\n",
    "    record_dict.update(subdict)\n",
    "    del subdict\n",
    "    record_dict_list[i] = None\n",
    "del record_dict_list\n",
    "print(\"finished making fastq dict\")\n"
   ]
  },
  {
   "cell_type": "code",
   "execution_count": 92,
   "metadata": {},
   "outputs": [
    {
     "data": {
      "text/plain": [
       "{1: 2, 3: 4, 5: 6}"
      ]
     },
     "execution_count": 92,
     "metadata": {},
     "output_type": "execute_result"
    }
   ],
   "source": [
    "record_dict"
   ]
  },
  {
   "cell_type": "code",
   "execution_count": 1,
   "metadata": {},
   "outputs": [],
   "source": [
    "import pandas as pd"
   ]
  },
  {
   "cell_type": "code",
   "execution_count": 5,
   "metadata": {},
   "outputs": [],
   "source": [
    "data = pd.read_csv(\"/home/de64/scratch/de64/2020-10-18_snakemake_2020-09-24_oDEPool3/output.tsv\",delimiter=\"\\t\")"
   ]
  },
  {
   "cell_type": "code",
   "execution_count": 7,
   "metadata": {},
   "outputs": [],
   "source": [
    "test = data[data[\"subsample\"]==200]"
   ]
  },
  {
   "cell_type": "code",
   "execution_count": 8,
   "metadata": {},
   "outputs": [
    {
     "data": {
      "text/html": [
       "<div>\n",
       "<style scoped>\n",
       "    .dataframe tbody tr th:only-of-type {\n",
       "        vertical-align: middle;\n",
       "    }\n",
       "\n",
       "    .dataframe tbody tr th {\n",
       "        vertical-align: top;\n",
       "    }\n",
       "\n",
       "    .dataframe thead th {\n",
       "        text-align: right;\n",
       "    }\n",
       "</style>\n",
       "<table border=\"1\" class=\"dataframe\">\n",
       "  <thead>\n",
       "    <tr style=\"text-align: right;\">\n",
       "      <th></th>\n",
       "      <th>Unnamed: 0</th>\n",
       "      <th>barcodeid</th>\n",
       "      <th>barcode</th>\n",
       "      <th>consensus</th>\n",
       "      <th>reference</th>\n",
       "      <th>cigar</th>\n",
       "      <th>subsample</th>\n",
       "    </tr>\n",
       "  </thead>\n",
       "  <tbody>\n",
       "    <tr>\n",
       "      <th>26061</th>\n",
       "      <td>0</td>\n",
       "      <td>0</td>\n",
       "      <td>000000000000001111100110001</td>\n",
       "      <td>ATTTGTCCTACTCAGGAGAGCGTTCACCGACAAACAACAGATAAAA...</td>\n",
       "      <td>ATTTGTCCTACTCAGGAGAGCGTTCACCGACAAACAACAGATAAAA...</td>\n",
       "      <td>1695M</td>\n",
       "      <td>200</td>\n",
       "    </tr>\n",
       "    <tr>\n",
       "      <th>26062</th>\n",
       "      <td>1</td>\n",
       "      <td>1</td>\n",
       "      <td>000000000001010110010111111</td>\n",
       "      <td>ATTTGTCCTACTCAGGAGAGCGTTCACCGACAAACAACAGATAAAA...</td>\n",
       "      <td>ATTTGTCCTACTCAGGAGAGCGTTCACCGACAAACAACAGATAAAA...</td>\n",
       "      <td>1608M1I87M</td>\n",
       "      <td>200</td>\n",
       "    </tr>\n",
       "    <tr>\n",
       "      <th>26063</th>\n",
       "      <td>2</td>\n",
       "      <td>2</td>\n",
       "      <td>000000000010000101000001011</td>\n",
       "      <td>ATTTGTCCTACTCAGGAGAGCGTTCACCGACAAACAACAGATAAAA...</td>\n",
       "      <td>ATTTGTCCTACTCAGGAGAGCGTTCACCGACAAACAACAGATAAAA...</td>\n",
       "      <td>1695M</td>\n",
       "      <td>200</td>\n",
       "    </tr>\n",
       "    <tr>\n",
       "      <th>26064</th>\n",
       "      <td>3</td>\n",
       "      <td>3</td>\n",
       "      <td>000000000100001010001111001</td>\n",
       "      <td>ATTTGTCCTACTCAGGAGAGCGTTCACCGACAAACAACAGATAAAA...</td>\n",
       "      <td>ATTTGTCCTACTCAGGAGAGCGTTCACCGACAAACAACAGATAAAA...</td>\n",
       "      <td>1115M1I580M</td>\n",
       "      <td>200</td>\n",
       "    </tr>\n",
       "    <tr>\n",
       "      <th>26065</th>\n",
       "      <td>4</td>\n",
       "      <td>4</td>\n",
       "      <td>000000000101101110110011111</td>\n",
       "      <td>ATTTGTCCTACTCAGGAGAGCGTTCACCGACAAACAACAGATAAAA...</td>\n",
       "      <td>ATTTGTCCTACTCAGGAGAGCGTTCACCGACAAACAACAGATAAAA...</td>\n",
       "      <td>1695M</td>\n",
       "      <td>200</td>\n",
       "    </tr>\n",
       "    <tr>\n",
       "      <th>...</th>\n",
       "      <td>...</td>\n",
       "      <td>...</td>\n",
       "      <td>...</td>\n",
       "      <td>...</td>\n",
       "      <td>...</td>\n",
       "      <td>...</td>\n",
       "      <td>...</td>\n",
       "    </tr>\n",
       "    <tr>\n",
       "      <th>29779</th>\n",
       "      <td>3718</td>\n",
       "      <td>3718</td>\n",
       "      <td>111111110100111001011011100</td>\n",
       "      <td>ATTTGTCCTACTCAGGAGAGCGTTCACCGACAAACAACAGATAAAA...</td>\n",
       "      <td>ATTTGTCCTACTCAGGAGAGCGTTCACCGACAAACAACAGATAAAA...</td>\n",
       "      <td>1695M</td>\n",
       "      <td>200</td>\n",
       "    </tr>\n",
       "    <tr>\n",
       "      <th>29780</th>\n",
       "      <td>3719</td>\n",
       "      <td>3719</td>\n",
       "      <td>111111110101001100001100111</td>\n",
       "      <td>ATTTGTCCTACTCAGGAGAGCGTTCACCGACAAACAACAGATAAAA...</td>\n",
       "      <td>ATTTGTCCTACTCAGGAGAGCGTTCACCGACAAACAACAGATAAAA...</td>\n",
       "      <td>1324M1D370M</td>\n",
       "      <td>200</td>\n",
       "    </tr>\n",
       "    <tr>\n",
       "      <th>29781</th>\n",
       "      <td>3720</td>\n",
       "      <td>3720</td>\n",
       "      <td>111111110110000110100011010</td>\n",
       "      <td>ATTTGTCCTACTCAGGAGAGCGTTCACCGACAAACAACAGATAAAA...</td>\n",
       "      <td>ATTTGTCCTACTCAGGAGAGCGTTCACCGACAAACAACAGATAAAA...</td>\n",
       "      <td>1695M</td>\n",
       "      <td>200</td>\n",
       "    </tr>\n",
       "    <tr>\n",
       "      <th>29782</th>\n",
       "      <td>3721</td>\n",
       "      <td>3721</td>\n",
       "      <td>111111110110011000010100000</td>\n",
       "      <td>ATTTGTCCTACTCAGGAGAGCGTTCACCGACAAACAACAGATAAAA...</td>\n",
       "      <td>ATTTGTCCTACTCAGGAGAGCGTTCACCGACAAACAACAGATAAAA...</td>\n",
       "      <td>1695M</td>\n",
       "      <td>200</td>\n",
       "    </tr>\n",
       "    <tr>\n",
       "      <th>29783</th>\n",
       "      <td>3722</td>\n",
       "      <td>3722</td>\n",
       "      <td>111111110110011110010100000</td>\n",
       "      <td>ATTTGTCCTACTCAGGAGAGCGTTCACCGACAAACAACAGATAAAA...</td>\n",
       "      <td>ATTTGTCCTACTCAGGAGAGCGTTCACCGACAAACAACAGATAAAA...</td>\n",
       "      <td>1695M</td>\n",
       "      <td>200</td>\n",
       "    </tr>\n",
       "  </tbody>\n",
       "</table>\n",
       "<p>3723 rows × 7 columns</p>\n",
       "</div>"
      ],
      "text/plain": [
       "       Unnamed: 0  barcodeid                      barcode  \\\n",
       "26061           0          0  000000000000001111100110001   \n",
       "26062           1          1  000000000001010110010111111   \n",
       "26063           2          2  000000000010000101000001011   \n",
       "26064           3          3  000000000100001010001111001   \n",
       "26065           4          4  000000000101101110110011111   \n",
       "...           ...        ...                          ...   \n",
       "29779        3718       3718  111111110100111001011011100   \n",
       "29780        3719       3719  111111110101001100001100111   \n",
       "29781        3720       3720  111111110110000110100011010   \n",
       "29782        3721       3721  111111110110011000010100000   \n",
       "29783        3722       3722  111111110110011110010100000   \n",
       "\n",
       "                                               consensus  \\\n",
       "26061  ATTTGTCCTACTCAGGAGAGCGTTCACCGACAAACAACAGATAAAA...   \n",
       "26062  ATTTGTCCTACTCAGGAGAGCGTTCACCGACAAACAACAGATAAAA...   \n",
       "26063  ATTTGTCCTACTCAGGAGAGCGTTCACCGACAAACAACAGATAAAA...   \n",
       "26064  ATTTGTCCTACTCAGGAGAGCGTTCACCGACAAACAACAGATAAAA...   \n",
       "26065  ATTTGTCCTACTCAGGAGAGCGTTCACCGACAAACAACAGATAAAA...   \n",
       "...                                                  ...   \n",
       "29779  ATTTGTCCTACTCAGGAGAGCGTTCACCGACAAACAACAGATAAAA...   \n",
       "29780  ATTTGTCCTACTCAGGAGAGCGTTCACCGACAAACAACAGATAAAA...   \n",
       "29781  ATTTGTCCTACTCAGGAGAGCGTTCACCGACAAACAACAGATAAAA...   \n",
       "29782  ATTTGTCCTACTCAGGAGAGCGTTCACCGACAAACAACAGATAAAA...   \n",
       "29783  ATTTGTCCTACTCAGGAGAGCGTTCACCGACAAACAACAGATAAAA...   \n",
       "\n",
       "                                               reference        cigar  \\\n",
       "26061  ATTTGTCCTACTCAGGAGAGCGTTCACCGACAAACAACAGATAAAA...        1695M   \n",
       "26062  ATTTGTCCTACTCAGGAGAGCGTTCACCGACAAACAACAGATAAAA...   1608M1I87M   \n",
       "26063  ATTTGTCCTACTCAGGAGAGCGTTCACCGACAAACAACAGATAAAA...        1695M   \n",
       "26064  ATTTGTCCTACTCAGGAGAGCGTTCACCGACAAACAACAGATAAAA...  1115M1I580M   \n",
       "26065  ATTTGTCCTACTCAGGAGAGCGTTCACCGACAAACAACAGATAAAA...        1695M   \n",
       "...                                                  ...          ...   \n",
       "29779  ATTTGTCCTACTCAGGAGAGCGTTCACCGACAAACAACAGATAAAA...        1695M   \n",
       "29780  ATTTGTCCTACTCAGGAGAGCGTTCACCGACAAACAACAGATAAAA...  1324M1D370M   \n",
       "29781  ATTTGTCCTACTCAGGAGAGCGTTCACCGACAAACAACAGATAAAA...        1695M   \n",
       "29782  ATTTGTCCTACTCAGGAGAGCGTTCACCGACAAACAACAGATAAAA...        1695M   \n",
       "29783  ATTTGTCCTACTCAGGAGAGCGTTCACCGACAAACAACAGATAAAA...        1695M   \n",
       "\n",
       "       subsample  \n",
       "26061        200  \n",
       "26062        200  \n",
       "26063        200  \n",
       "26064        200  \n",
       "26065        200  \n",
       "...          ...  \n",
       "29779        200  \n",
       "29780        200  \n",
       "29781        200  \n",
       "29782        200  \n",
       "29783        200  \n",
       "\n",
       "[3723 rows x 7 columns]"
      ]
     },
     "execution_count": 8,
     "metadata": {},
     "output_type": "execute_result"
    }
   ],
   "source": [
    "test"
   ]
  },
  {
   "cell_type": "code",
   "execution_count": null,
   "metadata": {},
   "outputs": [],
   "source": []
  }
 ],
 "metadata": {
  "kernelspec": {
   "display_name": "Python 3 (ipykernel)",
   "language": "python",
   "name": "python3"
  },
  "language_info": {
   "codemirror_mode": {
    "name": "ipython",
    "version": 3
   },
   "file_extension": ".py",
   "mimetype": "text/x-python",
   "name": "python",
   "nbconvert_exporter": "python",
   "pygments_lexer": "ipython3",
   "version": "3.10.12"
  }
 },
 "nbformat": 4,
 "nbformat_minor": 4
}
