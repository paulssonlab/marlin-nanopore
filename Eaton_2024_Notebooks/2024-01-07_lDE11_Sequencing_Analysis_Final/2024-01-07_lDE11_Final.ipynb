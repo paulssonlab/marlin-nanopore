{
 "cells": [
  {
   "cell_type": "code",
   "execution_count": 1,
   "metadata": {},
   "outputs": [],
   "source": [
    "import csv\n",
    "import ast\n",
    "import re\n",
    "import numpy as np\n",
    "import pandas as pd\n",
    "import seaborn as sns\n",
    "\n",
    "from Bio import SeqIO\n",
    "\n",
    "from matplotlib import pyplot as plt"
   ]
  },
  {
   "cell_type": "code",
   "execution_count": 2,
   "metadata": {},
   "outputs": [],
   "source": [
    "def cigarsfromsam(samfilepath):\n",
    "    cigars = {}\n",
    "    with open(samfilepath,\"r\") as samfile:\n",
    "        for line in samfile:\n",
    "            if line[0]==\"@\":\n",
    "                next(samfile)\n",
    "            else:\n",
    "                splitline = line.split(\"\\t\")\n",
    "                cigars[splitline[0]] = splitline[5]\n",
    "    return cigars\n",
    "\n",
    "def strsfromfasta(fastafilepath):\n",
    "    queries = SeqIO.to_dict(SeqIO.parse(fastafilepath,\"fasta\"))\n",
    "    queries = {key: str(val.seq) for key,val in queries.items()}\n",
    "    return queries\n",
    "\n",
    "def make_seg_dict(gfafile):\n",
    "    segment_dict = {}\n",
    "    with open(gfafile,\"r\") as infile:\n",
    "        for line in infile:\n",
    "            if line[0] == \"S\":\n",
    "                splitline = line.split(\"\\t\")\n",
    "                segment_dict[splitline[1]] = splitline[2][:-1]\n",
    "    return segment_dict\n",
    "\n",
    "def get_ref_intervals(gfafile):\n",
    "    segment_dict = {}\n",
    "    current_idx = 0\n",
    "    with open(gfafile,\"r\") as infile:\n",
    "        for line in infile:\n",
    "            if line[0] == \"S\":\n",
    "                splitline = line.split(\"\\t\")\n",
    "                if \"OFF\" not in splitline[1]:\n",
    "                    refstr = splitline[2][:-1]\n",
    "                    strlen = len(refstr)\n",
    "                    name = splitline[1]\n",
    "                    if \"ON\" in name:\n",
    "                        name=name[:-2]\n",
    "                    segment_dict[name] = tuple((current_idx,current_idx+strlen))\n",
    "                    current_idx += strlen\n",
    "    return segment_dict\n",
    "    \n",
    "def align_read(querystr,cigarstr,pattern=re.compile(\"[0-9]{0,10}[MX=DI]\")):\n",
    "    result = pattern.finditer(cigarstr)\n",
    "    cigar_seq = [(item.group(0)[-1],int(item.group(0)[:-1])) for item in result]\n",
    "#     output_str = \"\".join([\"-\" for i in range(cigar[1])])\n",
    "    output_str = \"\"\n",
    "    current_idx = 0\n",
    "    for item in cigar_seq:\n",
    "        if any([item[0] == \"M\",item[0] == \"=\",item[0] == \"X\"]):\n",
    "            added_str = querystr[current_idx:current_idx+item[1]]\n",
    "            output_str += added_str\n",
    "            current_idx += item[1]\n",
    "        elif item[0]==\"D\":\n",
    "            added_str = \"\".join([\"-\" for i in range(item[1])])\n",
    "            output_str += added_str\n",
    "        elif item[0]==\"I\":\n",
    "            current_idx += item[1]\n",
    "    return output_str\n",
    "\n",
    "def align_read_sanger(querystr, refstr, cigarstr, startpos=1, pattern=re.compile(\"[0-9]{0,10}[MX=DI]\")):\n",
    "    start_pos = startpos - 1  ##comes as 1 indexed from minimap\n",
    "    result = pattern.finditer(cigarstr)\n",
    "    cigar_seq = [(item.group(0)[-1], int(item.group(0)[:-1])) for item in result]\n",
    "    output_str = \"\"\n",
    "    if start_pos > 0:\n",
    "        output_str += \"\".join([\"-\" for i in range(start_pos)])\n",
    "    current_idx = 0\n",
    "    for item in cigar_seq:\n",
    "        if any([item[0] == \"M\",item[0] == \"=\",item[0] == \"X\"]):\n",
    "            added_str = querystr[current_idx : current_idx + item[1]]\n",
    "            output_str += added_str\n",
    "            current_idx += item[1]\n",
    "        elif item[0] == \"D\":\n",
    "            added_str = \"\".join([\"-\" for i in range(item[1])])\n",
    "            output_str += added_str\n",
    "        elif item[0] == \"I\":\n",
    "            current_idx += item[1]\n",
    "    remaining_len = len(refstr) - len(output_str)\n",
    "    if remaining_len > 0:\n",
    "        output_str += \"\".join([\"-\" for i in range(remaining_len)])\n",
    "    return output_str\n",
    "\n",
    "def splitstr(instr,ref_intervals):    \n",
    "    strassign = {key:instr[val[0]:val[1]] for key,val in ref_intervals.items()}\n",
    "    return strassign\n",
    "\n",
    "def slow_hamming_distance(s1, s2):\n",
    "    if len(s1) != len(s2):\n",
    "        print(s1,s2)\n",
    "        raise ValueError(\"Strand lengths are not equal!\")\n",
    "    term_list = []\n",
    "    for ch1,ch2 in zip(s1,s2):\n",
    "        if ch1 == \"N\" or ch2 == \"N\":\n",
    "            term_list.append(False)\n",
    "        else:\n",
    "            term_list.append(ch1 != ch2)\n",
    "    result = sum(term_list)\n",
    "    return result\n",
    "\n",
    "def get_dict_dist(dict1,dict2):\n",
    "    hamming_dict = {key:slow_hamming_distance(dict1[key],dict2[key]) for key in dict1.keys()}\n",
    "    return hamming_dict"
   ]
  },
  {
   "cell_type": "code",
   "execution_count": 44,
   "metadata": {},
   "outputs": [],
   "source": [
    "# Imports\n",
    "R9_data = pd.read_csv(\"/home/de64/scratch/de64/sync_folder/2020-10-18_snakemake_2020-09-24_oDEPool3/output.tsv\",delimiter=\"\\t\")\n",
    "R10_data = pd.read_csv(\"/home/de64/scratch/de64/sync_folder/2020-10-18_snakemake_2020-10-14_lDE11_R10-3_merged/output.tsv\",delimiter=\"\\t\")\n",
    "R10_data_high_depth = pd.read_csv(\"/home/de64/scratch/de64/sync_folder/2020-10-20_snakemake_2020-10-14_lDE11_R10-3_merged_final/output.tsv\",delimiter=\"\\t\")\n",
    "ref_intervals = get_ref_intervals(\"/home/de64/scratch/de64/sync_folder/2020-10-18_snakemake_2020-10-14_lDE11_R10-3_merged/ref.gfa\")"
   ]
  },
  {
   "cell_type": "markdown",
   "metadata": {},
   "source": [
    "### Part 1: Get Sequencing Dataframes"
   ]
  },
  {
   "cell_type": "code",
   "execution_count": 45,
   "metadata": {},
   "outputs": [],
   "source": [
    "R9_barcodes = set(R9_data[\"barcode\"].tolist())\n",
    "R10_barcodes = set(R10_data[\"barcode\"].tolist())\n",
    "\n",
    "R9_only_barcodes = R9_barcodes-R10_barcodes\n",
    "R10_only_barcodes = R10_barcodes-R9_barcodes\n",
    "shared_barcodes = R10_barcodes&R9_barcodes\n",
    "barcode_count_arr = np.array([len(R9_only_barcodes),len(R10_only_barcodes),len(shared_barcodes)])\n",
    "\n",
    "R9_data = R9_data[R9_data[\"barcode\"].isin(shared_barcodes)]\n",
    "R10_data = R10_data[R10_data[\"barcode\"].isin(shared_barcodes)]"
   ]
  },
  {
   "cell_type": "code",
   "execution_count": 46,
   "metadata": {},
   "outputs": [
    {
     "ename": "TypeError",
     "evalue": "align_read() missing 1 required positional argument: 'cigarstr'",
     "output_type": "error",
     "traceback": [
      "\u001b[0;31m---------------------------------------------------------------------------\u001b[0m",
      "\u001b[0;31mTypeError\u001b[0m                                 Traceback (most recent call last)",
      "Cell \u001b[0;32mIn[46], line 1\u001b[0m\n\u001b[0;32m----> 1\u001b[0m aligned_cons \u001b[38;5;241m=\u001b[39m \u001b[43mR9_data\u001b[49m\u001b[38;5;241;43m.\u001b[39;49m\u001b[43mapply\u001b[49m\u001b[43m(\u001b[49m\u001b[38;5;28;43;01mlambda\u001b[39;49;00m\u001b[43m \u001b[49m\u001b[43mx\u001b[49m\u001b[43m:\u001b[49m\u001b[43m \u001b[49m\u001b[43malign_read\u001b[49m\u001b[43m(\u001b[49m\u001b[43mx\u001b[49m\u001b[43m[\u001b[49m\u001b[38;5;124;43m\"\u001b[39;49m\u001b[38;5;124;43mconsensus\u001b[39;49m\u001b[38;5;124;43m\"\u001b[39;49m\u001b[43m]\u001b[49m\u001b[43m,\u001b[49m\u001b[43mx\u001b[49m\u001b[43m[\u001b[49m\u001b[38;5;124;43m\"\u001b[39;49m\u001b[38;5;124;43mcigar\u001b[39;49m\u001b[38;5;124;43m\"\u001b[39;49m\u001b[43m]\u001b[49m\u001b[43m)\u001b[49m\u001b[43m,\u001b[49m\u001b[43m \u001b[49m\u001b[43maxis\u001b[49m\u001b[38;5;241;43m=\u001b[39;49m\u001b[38;5;241;43m1\u001b[39;49m\u001b[43m)\u001b[49m\n\u001b[1;32m      2\u001b[0m R9_data[\u001b[38;5;124m\"\u001b[39m\u001b[38;5;124maligned_cons\u001b[39m\u001b[38;5;124m\"\u001b[39m] \u001b[38;5;241m=\u001b[39m aligned_cons\n\u001b[1;32m      4\u001b[0m aligned_cons \u001b[38;5;241m=\u001b[39m R10_data\u001b[38;5;241m.\u001b[39mapply(\u001b[38;5;28;01mlambda\u001b[39;00m x: align_read(x[\u001b[38;5;124m\"\u001b[39m\u001b[38;5;124mconsensus\u001b[39m\u001b[38;5;124m\"\u001b[39m],x[\u001b[38;5;124m\"\u001b[39m\u001b[38;5;124mcigar\u001b[39m\u001b[38;5;124m\"\u001b[39m]), axis\u001b[38;5;241m=\u001b[39m\u001b[38;5;241m1\u001b[39m)\n",
      "File \u001b[0;32m~/micromamba/envs/nanopore/lib/python3.10/site-packages/pandas/core/frame.py:10034\u001b[0m, in \u001b[0;36mDataFrame.apply\u001b[0;34m(self, func, axis, raw, result_type, args, by_row, **kwargs)\u001b[0m\n\u001b[1;32m  10022\u001b[0m \u001b[38;5;28;01mfrom\u001b[39;00m \u001b[38;5;21;01mpandas\u001b[39;00m\u001b[38;5;21;01m.\u001b[39;00m\u001b[38;5;21;01mcore\u001b[39;00m\u001b[38;5;21;01m.\u001b[39;00m\u001b[38;5;21;01mapply\u001b[39;00m \u001b[38;5;28;01mimport\u001b[39;00m frame_apply\n\u001b[1;32m  10024\u001b[0m op \u001b[38;5;241m=\u001b[39m frame_apply(\n\u001b[1;32m  10025\u001b[0m     \u001b[38;5;28mself\u001b[39m,\n\u001b[1;32m  10026\u001b[0m     func\u001b[38;5;241m=\u001b[39mfunc,\n\u001b[0;32m   (...)\u001b[0m\n\u001b[1;32m  10032\u001b[0m     kwargs\u001b[38;5;241m=\u001b[39mkwargs,\n\u001b[1;32m  10033\u001b[0m )\n\u001b[0;32m> 10034\u001b[0m \u001b[38;5;28;01mreturn\u001b[39;00m \u001b[43mop\u001b[49m\u001b[38;5;241;43m.\u001b[39;49m\u001b[43mapply\u001b[49m\u001b[43m(\u001b[49m\u001b[43m)\u001b[49m\u001b[38;5;241m.\u001b[39m__finalize__(\u001b[38;5;28mself\u001b[39m, method\u001b[38;5;241m=\u001b[39m\u001b[38;5;124m\"\u001b[39m\u001b[38;5;124mapply\u001b[39m\u001b[38;5;124m\"\u001b[39m)\n",
      "File \u001b[0;32m~/micromamba/envs/nanopore/lib/python3.10/site-packages/pandas/core/apply.py:837\u001b[0m, in \u001b[0;36mFrameApply.apply\u001b[0;34m(self)\u001b[0m\n\u001b[1;32m    834\u001b[0m \u001b[38;5;28;01melif\u001b[39;00m \u001b[38;5;28mself\u001b[39m\u001b[38;5;241m.\u001b[39mraw:\n\u001b[1;32m    835\u001b[0m     \u001b[38;5;28;01mreturn\u001b[39;00m \u001b[38;5;28mself\u001b[39m\u001b[38;5;241m.\u001b[39mapply_raw()\n\u001b[0;32m--> 837\u001b[0m \u001b[38;5;28;01mreturn\u001b[39;00m \u001b[38;5;28;43mself\u001b[39;49m\u001b[38;5;241;43m.\u001b[39;49m\u001b[43mapply_standard\u001b[49m\u001b[43m(\u001b[49m\u001b[43m)\u001b[49m\n",
      "File \u001b[0;32m~/micromamba/envs/nanopore/lib/python3.10/site-packages/pandas/core/apply.py:965\u001b[0m, in \u001b[0;36mFrameApply.apply_standard\u001b[0;34m(self)\u001b[0m\n\u001b[1;32m    964\u001b[0m \u001b[38;5;28;01mdef\u001b[39;00m \u001b[38;5;21mapply_standard\u001b[39m(\u001b[38;5;28mself\u001b[39m):\n\u001b[0;32m--> 965\u001b[0m     results, res_index \u001b[38;5;241m=\u001b[39m \u001b[38;5;28;43mself\u001b[39;49m\u001b[38;5;241;43m.\u001b[39;49m\u001b[43mapply_series_generator\u001b[49m\u001b[43m(\u001b[49m\u001b[43m)\u001b[49m\n\u001b[1;32m    967\u001b[0m     \u001b[38;5;66;03m# wrap results\u001b[39;00m\n\u001b[1;32m    968\u001b[0m     \u001b[38;5;28;01mreturn\u001b[39;00m \u001b[38;5;28mself\u001b[39m\u001b[38;5;241m.\u001b[39mwrap_results(results, res_index)\n",
      "File \u001b[0;32m~/micromamba/envs/nanopore/lib/python3.10/site-packages/pandas/core/apply.py:981\u001b[0m, in \u001b[0;36mFrameApply.apply_series_generator\u001b[0;34m(self)\u001b[0m\n\u001b[1;32m    978\u001b[0m \u001b[38;5;28;01mwith\u001b[39;00m option_context(\u001b[38;5;124m\"\u001b[39m\u001b[38;5;124mmode.chained_assignment\u001b[39m\u001b[38;5;124m\"\u001b[39m, \u001b[38;5;28;01mNone\u001b[39;00m):\n\u001b[1;32m    979\u001b[0m     \u001b[38;5;28;01mfor\u001b[39;00m i, v \u001b[38;5;129;01min\u001b[39;00m \u001b[38;5;28menumerate\u001b[39m(series_gen):\n\u001b[1;32m    980\u001b[0m         \u001b[38;5;66;03m# ignore SettingWithCopy here in case the user mutates\u001b[39;00m\n\u001b[0;32m--> 981\u001b[0m         results[i] \u001b[38;5;241m=\u001b[39m \u001b[38;5;28;43mself\u001b[39;49m\u001b[38;5;241;43m.\u001b[39;49m\u001b[43mfunc\u001b[49m\u001b[43m(\u001b[49m\u001b[43mv\u001b[49m\u001b[43m,\u001b[49m\u001b[43m \u001b[49m\u001b[38;5;241;43m*\u001b[39;49m\u001b[38;5;28;43mself\u001b[39;49m\u001b[38;5;241;43m.\u001b[39;49m\u001b[43margs\u001b[49m\u001b[43m,\u001b[49m\u001b[43m \u001b[49m\u001b[38;5;241;43m*\u001b[39;49m\u001b[38;5;241;43m*\u001b[39;49m\u001b[38;5;28;43mself\u001b[39;49m\u001b[38;5;241;43m.\u001b[39;49m\u001b[43mkwargs\u001b[49m\u001b[43m)\u001b[49m\n\u001b[1;32m    982\u001b[0m         \u001b[38;5;28;01mif\u001b[39;00m \u001b[38;5;28misinstance\u001b[39m(results[i], ABCSeries):\n\u001b[1;32m    983\u001b[0m             \u001b[38;5;66;03m# If we have a view on v, we need to make a copy because\u001b[39;00m\n\u001b[1;32m    984\u001b[0m             \u001b[38;5;66;03m#  series_generator will swap out the underlying data\u001b[39;00m\n\u001b[1;32m    985\u001b[0m             results[i] \u001b[38;5;241m=\u001b[39m results[i]\u001b[38;5;241m.\u001b[39mcopy(deep\u001b[38;5;241m=\u001b[39m\u001b[38;5;28;01mFalse\u001b[39;00m)\n",
      "Cell \u001b[0;32mIn[46], line 1\u001b[0m, in \u001b[0;36m<lambda>\u001b[0;34m(x)\u001b[0m\n\u001b[0;32m----> 1\u001b[0m aligned_cons \u001b[38;5;241m=\u001b[39m R9_data\u001b[38;5;241m.\u001b[39mapply(\u001b[38;5;28;01mlambda\u001b[39;00m x: \u001b[43malign_read\u001b[49m\u001b[43m(\u001b[49m\u001b[43mx\u001b[49m\u001b[43m[\u001b[49m\u001b[38;5;124;43m\"\u001b[39;49m\u001b[38;5;124;43mconsensus\u001b[39;49m\u001b[38;5;124;43m\"\u001b[39;49m\u001b[43m]\u001b[49m\u001b[43m,\u001b[49m\u001b[43mx\u001b[49m\u001b[43m[\u001b[49m\u001b[38;5;124;43m\"\u001b[39;49m\u001b[38;5;124;43mcigar\u001b[39;49m\u001b[38;5;124;43m\"\u001b[39;49m\u001b[43m]\u001b[49m\u001b[43m)\u001b[49m, axis\u001b[38;5;241m=\u001b[39m\u001b[38;5;241m1\u001b[39m)\n\u001b[1;32m      2\u001b[0m R9_data[\u001b[38;5;124m\"\u001b[39m\u001b[38;5;124maligned_cons\u001b[39m\u001b[38;5;124m\"\u001b[39m] \u001b[38;5;241m=\u001b[39m aligned_cons\n\u001b[1;32m      4\u001b[0m aligned_cons \u001b[38;5;241m=\u001b[39m R10_data\u001b[38;5;241m.\u001b[39mapply(\u001b[38;5;28;01mlambda\u001b[39;00m x: align_read(x[\u001b[38;5;124m\"\u001b[39m\u001b[38;5;124mconsensus\u001b[39m\u001b[38;5;124m\"\u001b[39m],x[\u001b[38;5;124m\"\u001b[39m\u001b[38;5;124mcigar\u001b[39m\u001b[38;5;124m\"\u001b[39m]), axis\u001b[38;5;241m=\u001b[39m\u001b[38;5;241m1\u001b[39m)\n",
      "\u001b[0;31mTypeError\u001b[0m: align_read() missing 1 required positional argument: 'cigarstr'"
     ]
    }
   ],
   "source": [
    "aligned_cons = R9_data.apply(lambda x: align_read(x[\"consensus\"],x[\"cigar\"]), axis=1)\n",
    "R9_data[\"aligned_cons\"] = aligned_cons\n",
    "\n",
    "aligned_cons = R10_data.apply(lambda x: align_read(x[\"consensus\"],x[\"cigar\"]), axis=1)\n",
    "R10_data[\"aligned_cons\"] = aligned_cons\n",
    "\n",
    "aligned_cons = R10_data_high_depth.apply(lambda x: align_read(x[\"consensus\"],x[\"cigar\"]), axis=1)\n",
    "R10_data_high_depth[\"aligned_cons\"] = aligned_cons\n",
    "\n",
    "split_ref = R9_data.apply(lambda x: splitstr(x[\"reference\"],ref_intervals), axis=1)\n",
    "split_align = R9_data.apply(lambda x: splitstr(x[\"aligned_cons\"],ref_intervals), axis=1)\n",
    "R9_data[\"split_ref\"] = split_ref\n",
    "R9_data[\"split_align\"] = split_align\n",
    "\n",
    "split_ref = R10_data.apply(lambda x: splitstr(x[\"reference\"],ref_intervals), axis=1)\n",
    "split_align = R10_data.apply(lambda x: splitstr(x[\"aligned_cons\"],ref_intervals), axis=1)\n",
    "R10_data[\"split_ref\"] = split_ref\n",
    "R10_data[\"split_align\"] = split_align\n",
    "\n",
    "split_ref = R10_data_high_depth.apply(lambda x: splitstr(x[\"reference\"],ref_intervals), axis=1)\n",
    "split_align = R10_data_high_depth.apply(lambda x: splitstr(x[\"aligned_cons\"],ref_intervals), axis=1)\n",
    "R10_data_high_depth[\"split_ref\"] = split_ref\n",
    "R10_data_high_depth[\"split_align\"] = split_align\n",
    "\n",
    "R9_data[\"split_ref\"] = R9_data[\"split_ref\"].apply(lambda x: {key:val for key,val in x.items() if key==\"GFP\"}) ## This is a hack until I can repull the alignment data...then I'll add padding for the unaligned parts\n",
    "R9_data[\"split_align\"] = R9_data[\"split_align\"].apply(lambda x: {key:val for key,val in x.items() if key==\"GFP\"}) ## This is a hack until I can repull the alignment data...\n",
    "\n",
    "R10_data[\"split_ref\"] = R10_data[\"split_ref\"].apply(lambda x: {key:val for key,val in x.items() if key==\"GFP\"}) ## This is a hack until I can repull the alignment data...then I'll add padding for the unaligned parts\n",
    "R10_data[\"split_align\"] = R10_data[\"split_align\"].apply(lambda x: {key:val for key,val in x.items() if key==\"GFP\"}) ## This is a hack until I can repull the alignment data...\n",
    "\n",
    "R10_data_high_depth[\"split_ref\"] = R10_data_high_depth[\"split_ref\"].apply(lambda x: {key:val for key,val in x.items() if key==\"GFP\"}) ## This is a hack until I can repull the alignment data...then I'll add padding for the unaligned parts\n",
    "R10_data_high_depth[\"split_align\"] = R10_data_high_depth[\"split_align\"].apply(lambda x: {key:val for key,val in x.items() if key==\"GFP\"}) ## This is a hack until I can repull the alignment data...\n",
    "\n",
    "hamm_ref = R9_data.apply(lambda x: get_dict_dist(x[\"split_align\"],x[\"split_ref\"]), axis=1)\n",
    "R9_data[\"hamm_ref\"] = hamm_ref\n",
    "hamm_ref = R10_data.apply(lambda x: get_dict_dist(x[\"split_align\"],x[\"split_ref\"]), axis=1)\n",
    "R10_data[\"hamm_ref\"] = hamm_ref\n",
    "hamm_ref = R10_data_high_depth.apply(lambda x: get_dict_dist(x[\"split_align\"],x[\"split_ref\"]), axis=1)\n",
    "R10_data_high_depth[\"hamm_ref\"] = hamm_ref\n",
    "\n",
    "dark_gfp = R9_data.apply(lambda x: slow_hamming_distance(x[\"split_align\"][\"GFP\"][623:625],x[\"split_ref\"][\"GFP\"][623:625]), axis=1)>0\n",
    "R9_data[\"dark_gfp\"] = dark_gfp\n",
    "dark_gfp = R10_data.apply(lambda x: slow_hamming_distance(x[\"split_align\"][\"GFP\"][623:625],x[\"split_ref\"][\"GFP\"][623:625]), axis=1)>0\n",
    "R10_data[\"dark_gfp\"] = dark_gfp\n",
    "dark_gfp = R10_data_high_depth.apply(lambda x: slow_hamming_distance(x[\"split_align\"][\"GFP\"][623:625],x[\"split_ref\"][\"GFP\"][623:625]), axis=1)>0\n",
    "R10_data_high_depth[\"dark_gfp\"] = dark_gfp\n",
    "\n",
    "R9_data[\"UMI\"] = R9_data[\"split_align\"].apply(lambda x: x[\"GFP\"][925:940])\n",
    "R10_data[\"UMI\"] = R10_data[\"split_align\"].apply(lambda x: x[\"GFP\"][925:940])\n",
    "R10_data_high_depth[\"UMI\"] = R10_data_high_depth[\"split_align\"].apply(lambda x: x[\"GFP\"][925:940])\n",
    "\n",
    "R9_data.to_csv(\"./lDE11_R9_df.tsv\", sep=\"\\t\")\n",
    "R10_data.to_csv(\"./lDE11_R10_df.tsv\", sep=\"\\t\")\n",
    "R10_data_high_depth.to_csv(\"./lDE11_R10_All_Samples_df.tsv\", sep=\"\\t\")"
   ]
  },
  {
   "cell_type": "markdown",
   "metadata": {},
   "source": [
    "### Part 2: Get Call Rates"
   ]
  },
  {
   "cell_type": "code",
   "execution_count": 30,
   "metadata": {},
   "outputs": [],
   "source": [
    "R9_data = pd.read_csv(\"./lDE11_R9_df.tsv\", sep=\"\\t\")\n",
    "R10_data = pd.read_csv(\"./lDE11_R10_df.tsv\", sep=\"\\t\")"
   ]
  },
  {
   "cell_type": "code",
   "execution_count": 31,
   "metadata": {},
   "outputs": [
    {
     "name": "stderr",
     "output_type": "stream",
     "text": [
      "/home/de64/micromamba/envs/nanopore/lib/python3.10/site-packages/pandas/core/internals/blocks.py:366: RuntimeWarning: divide by zero encountered in log10\n",
      "  result = func(self.values, **kwargs)\n"
     ]
    }
   ],
   "source": [
    "## compute calls\n",
    "R9_ground_truth_data = R9_data[R9_data[\"subsample\"]==200]\n",
    "R9_ground_truth_lookup = dict(zip(R9_ground_truth_data[\"barcodeid\"],R9_ground_truth_data[\"dark_gfp\"]))\n",
    "\n",
    "R9_data[\"GFP Call\"] = R9_data.apply(lambda x: x[\"dark_gfp\"]==R9_ground_truth_lookup[x[\"barcodeid\"]],axis=1)\n",
    "\n",
    "R10_ground_truth_data = R10_data[R10_data[\"subsample\"]==200]\n",
    "R10_ground_truth_lookup = dict(zip(R10_ground_truth_data[\"barcodeid\"],R10_ground_truth_data[\"dark_gfp\"]))\n",
    "\n",
    "R10_data[\"GFP Call\"] = R10_data.apply(lambda x: x[\"dark_gfp\"]==R10_ground_truth_lookup[x[\"barcodeid\"]],axis=1)\n",
    "\n",
    "R9_subsample_group = R9_data.groupby(\"subsample\")\n",
    "R10_subsample_group = R10_data.groupby(\"subsample\")\n",
    "\n",
    "R9_GFP_call_curve = 1-R9_subsample_group.aggregate({'GFP Call': 'mean'})\n",
    "R10_GFP_call_curve = 1-R10_subsample_group.aggregate({'GFP Call': 'mean'})\n",
    "\n",
    "R9_GFP_q_scores = -10*np.log10(R9_GFP_call_curve)\n",
    "R10_GFP_q_scores = -10*np.log10(R10_GFP_call_curve)"
   ]
  },
  {
   "cell_type": "markdown",
   "metadata": {},
   "source": [
    "### UMI Error"
   ]
  },
  {
   "cell_type": "code",
   "execution_count": 32,
   "metadata": {},
   "outputs": [],
   "source": [
    "R9_ground_truth_umi_lookup = dict(zip(R9_ground_truth_data[\"barcodeid\"],R9_ground_truth_data[\"UMI\"]))\n",
    "R9_data[\"UMI Errors\"] = R9_data.apply(lambda x: slow_hamming_distance(x[\"UMI\"],R9_ground_truth_umi_lookup[x[\"barcodeid\"]]),axis=1)\n",
    "R9_data[\"UMI Error Rate\"] = R9_data[\"UMI Errors\"]/15\n",
    "R9_subsample_group = R9_data.groupby(\"subsample\")\n",
    "R9_UMI_call_curve = R9_subsample_group.aggregate({'UMI Error Rate': 'mean'})\n",
    "\n",
    "R10_ground_truth_umi_lookup = dict(zip(R10_ground_truth_data[\"barcodeid\"],R10_ground_truth_data[\"UMI\"]))\n",
    "R10_data[\"UMI Errors\"] = R10_data.apply(lambda x: slow_hamming_distance(x[\"UMI\"],R10_ground_truth_umi_lookup[x[\"barcodeid\"]]),axis=1)\n",
    "R10_data[\"UMI Error Rate\"] = R10_data[\"UMI Errors\"]/15\n",
    "R10_subsample_group = R10_data.groupby(\"subsample\")\n",
    "R10_UMI_call_curve = R10_subsample_group.aggregate({'UMI Error Rate': 'mean'})"
   ]
  },
  {
   "cell_type": "code",
   "execution_count": 33,
   "metadata": {},
   "outputs": [
    {
     "data": {
      "text/html": [
       "<div>\n",
       "<style scoped>\n",
       "    .dataframe tbody tr th:only-of-type {\n",
       "        vertical-align: middle;\n",
       "    }\n",
       "\n",
       "    .dataframe tbody tr th {\n",
       "        vertical-align: top;\n",
       "    }\n",
       "\n",
       "    .dataframe thead th {\n",
       "        text-align: right;\n",
       "    }\n",
       "</style>\n",
       "<table border=\"1\" class=\"dataframe\">\n",
       "  <thead>\n",
       "    <tr style=\"text-align: right;\">\n",
       "      <th></th>\n",
       "      <th>GFP Call</th>\n",
       "    </tr>\n",
       "    <tr>\n",
       "      <th>subsample</th>\n",
       "      <th></th>\n",
       "    </tr>\n",
       "  </thead>\n",
       "  <tbody>\n",
       "    <tr>\n",
       "      <th>5</th>\n",
       "      <td>0.037131</td>\n",
       "    </tr>\n",
       "    <tr>\n",
       "      <th>10</th>\n",
       "      <td>0.012940</td>\n",
       "    </tr>\n",
       "    <tr>\n",
       "      <th>15</th>\n",
       "      <td>0.006188</td>\n",
       "    </tr>\n",
       "    <tr>\n",
       "      <th>20</th>\n",
       "      <td>0.004219</td>\n",
       "    </tr>\n",
       "    <tr>\n",
       "      <th>25</th>\n",
       "      <td>0.005626</td>\n",
       "    </tr>\n",
       "    <tr>\n",
       "      <th>50</th>\n",
       "      <td>0.001688</td>\n",
       "    </tr>\n",
       "    <tr>\n",
       "      <th>200</th>\n",
       "      <td>0.000000</td>\n",
       "    </tr>\n",
       "  </tbody>\n",
       "</table>\n",
       "</div>"
      ],
      "text/plain": [
       "           GFP Call\n",
       "subsample          \n",
       "5          0.037131\n",
       "10         0.012940\n",
       "15         0.006188\n",
       "20         0.004219\n",
       "25         0.005626\n",
       "50         0.001688\n",
       "200        0.000000"
      ]
     },
     "execution_count": 33,
     "metadata": {},
     "output_type": "execute_result"
    }
   ],
   "source": [
    "R9_GFP_call_curve"
   ]
  },
  {
   "cell_type": "code",
   "execution_count": 158,
   "metadata": {},
   "outputs": [
    {
     "data": {
      "image/png": "[encoded data removed]",
      "text/plain": [
       "<Figure size 640x480 with 1 Axes>"
      ]
     },
     "metadata": {},
     "output_type": "display_data"
    }
   ],
   "source": [
    "plt.plot(R9_GFP_call_curve*100,linewidth=3.,label=\"R9.4.1\")\n",
    "plt.plot(R10_GFP_call_curve*100,linewidth=3.,label=\"R10.3.1\")\n",
    "plt.axvline(15,color=\"C1\",ls=\"--\",c=\"black\")\n",
    "plt.ylim(0.,6.)\n",
    "plt.xlim(0,50)\n",
    "plt.xticks([5,10,15,20,25,50],fontsize=16)\n",
    "plt.yticks([0.,1.,2.,3.,4.,5.],fontsize=16)\n",
    "plt.xlabel(\"Read Depth\",fontsize=16)\n",
    "plt.ylabel(\"GFP Call Error (%)\",fontsize=16)\n",
    "plt.legend(fontsize=14)\n",
    "plt.tight_layout()\n",
    "plt.savefig(\"/home/de64/group/de64/nanopore/dev_notebooks/2024-01-07_lDE11_Sequencing_Analysis_Final/Figure_S1_1.png\",dpi=300)"
   ]
  },
  {
   "cell_type": "code",
   "execution_count": 160,
   "metadata": {},
   "outputs": [
    {
     "data": {
      "image/png": "[encoded data removed]",
      "text/plain": [
       "<Figure size 640x480 with 1 Axes>"
      ]
     },
     "metadata": {},
     "output_type": "display_data"
    }
   ],
   "source": [
    "plt.plot(R9_UMI_call_curve*100,linewidth=3.,label=\"R9.4.1\")\n",
    "plt.plot(R10_UMI_call_curve*100,linewidth=3.,label=\"R10.3.1\")\n",
    "plt.axvline(15,color=\"C1\",ls=\"--\",c=\"black\")\n",
    "plt.ylim(0.,6.)\n",
    "plt.xlim(0,50)\n",
    "plt.xticks([5,10,15,20,25,50],fontsize=16)\n",
    "plt.yticks([0.,1.,2.,3.,4.,5.],fontsize=16)\n",
    "plt.xlabel(\"Read Depth\",fontsize=16)\n",
    "plt.ylabel(\"UMI Error (% per bp)\",fontsize=16)\n",
    "plt.legend(fontsize=14)\n",
    "plt.tight_layout()\n",
    "plt.savefig(\"/home/de64/group/de64/nanopore/dev_notebooks/2024-01-07_lDE11_Sequencing_Analysis_Final/Figure_S1_2.png\",dpi=300)"
   ]
  },
  {
   "cell_type": "markdown",
   "metadata": {},
   "source": [
    "### Part 3: Sanger Error"
   ]
  },
  {
   "cell_type": "markdown",
   "metadata": {},
   "source": [
    "#### Convert to fastq and group"
   ]
  },
  {
   "cell_type": "code",
   "execution_count": null,
   "metadata": {},
   "outputs": [],
   "source": [
    "with open(\"./ab1_files/merged.fastq\", \"w\") as outfile:\n",
    "    for i in range(1, 97):\n",
    "        filepath1 = \"./ab1_files/lDE11_validation_sample_\" + str(i) + \"-oDE154.ab1\"\n",
    "        filepath2 = \"./ab1_files/lDE11_validation_sample_\" + str(i) + \"-oDE201.ab1\"\n",
    "\n",
    "        record1 = SeqIO.read(filepath1, \"abi\")\n",
    "        record2 = SeqIO.read(filepath2, \"abi\")\n",
    "\n",
    "        SeqIO.write(record1, outfile, \"fastq\")\n",
    "        SeqIO.write(record2, outfile, \"fastq\")"
   ]
  },
  {
   "cell_type": "markdown",
   "metadata": {},
   "source": [
    "#### Align to GAF"
   ]
  },
  {
   "cell_type": "code",
   "execution_count": 59,
   "metadata": {},
   "outputs": [
    {
     "name": "stdout",
     "output_type": "stream",
     "text": [
      "GraphAligner bioconda 1.0.17-\n",
      "GraphAligner bioconda 1.0.17-\n",
      "Load graph from ./ref.gfa\n",
      "Build alignment graph\n",
      "Build minimizer seeder from the graph\n",
      "Minimizer seeds, length 19, window size 30, density 5\n",
      "Seed cluster size 1\n",
      "Extend up to 5 seed clusters\n",
      "Alignment bandwidth 20, tangle effort 1000\n",
      "Clip alignment ends with identity < 66%\n",
      "X-drop DP score cutoff 14705\n",
      "Backtrace from 10 highest scoring local maxima per cluster\n",
      "write alignments to ./ab1_files/aligned.gaf\n",
      "Align\n",
      "Alignment finished\n",
      "Input reads: 192 (193156bp)\n",
      "Seeds found: 15017\n",
      "Seeds extended: 192\n",
      "Reads with a seed: 192 (193156bp)\n",
      "Reads with an alignment: 192 (193138bp)\n",
      "Alignments: 192 (193138bp)\n",
      "End-to-end alignments: 186 (186924bp)\n"
     ]
    }
   ],
   "source": [
    "!GraphAligner -g ./ref.gfa -f ./ab1_files/merged.fastq -a ./ab1_files/aligned.gaf -x dbg -b 20 -C 1000"
   ]
  },
  {
   "cell_type": "markdown",
   "metadata": {},
   "source": [
    "#### Get cigar strings, barcodes and read sequences for each isolate"
   ]
  },
  {
   "cell_type": "code",
   "execution_count": 98,
   "metadata": {},
   "outputs": [],
   "source": [
    "cigar_dict = {}\n",
    "with open(\"./ab1_files/aligned.gaf\", \"r\") as infile:\n",
    "    for line in infile:\n",
    "        data = line.split(\"\\t\")\n",
    "        read_id = data[0].split(\" \")[0]\n",
    "        if \">\" in data[5]:\n",
    "            cigar_dict[read_id] = (\n",
    "                \"+\",\n",
    "                int(data[7]),\n",
    "                int(data[8]),\n",
    "                data[5],\n",
    "                data[16].split(\":\")[-1][:-1],\n",
    "            )\n",
    "        else:\n",
    "            cigar_dict[read_id] = (\n",
    "                \"-\",\n",
    "                int(data[7]),\n",
    "                int(data[8]),\n",
    "                data[5],\n",
    "                data[16].split(\":\")[-1][:-1],\n",
    "            )\n",
    "\n",
    "barcode_dict = {}\n",
    "for key in cigar_dict.keys():\n",
    "    cigar = cigar_dict[key]\n",
    "    if \"oDE201\" in key:\n",
    "        barcode = cigar[3].split(\"<\")\n",
    "        barcode = barcode[::-1]\n",
    "        barcode = barcode[:-1]\n",
    "        barcode = (\n",
    "            np.array([\"ON\" in item for item in barcode if \"BIT\" in item])\n",
    "            .astype(int)\n",
    "            .astype(str)\n",
    "            .tolist()\n",
    "        )\n",
    "        barcode = \"\".join(barcode)\n",
    "        index = key.split(\"_\")[3].split(\"-\")[0]\n",
    "        barcode_dict[int(index)] = barcode\n",
    "\n",
    "with open(\"./ab1_files/merged.fastq\", \"r\") as infile:\n",
    "    read_dict = SeqIO.parse(infile, \"fastq\")\n",
    "    read_dict = SeqIO.to_dict(read_dict)\n",
    "    read_dict = {key:str(val.seq) for key,val in read_dict.items()}"
   ]
  },
  {
   "cell_type": "markdown",
   "metadata": {},
   "source": [
    "#### Get agreement between reads and nanopore calls at GFP/DarkGFP site"
   ]
  },
  {
   "cell_type": "code",
   "execution_count": 139,
   "metadata": {},
   "outputs": [],
   "source": [
    "R10_data_high_depth = pd.read_csv(\"./lDE11_R10_All_Samples_df.tsv\", sep=\"\\t\")\n",
    "\n",
    "R10_data_high_depth_output_rows = []\n",
    "for i in range(1, 97):\n",
    "    if np.sum(R10_data_high_depth[\"barcode\"] == barcode_dict[i]) == 1:\n",
    "        output_row = R10_data_high_depth[R10_data_high_depth[\"barcode\"] == barcode_dict[i]].copy()\n",
    "        gfp_read_name = \"lDE11_validation_sample_\" + str(i) + \"-oDE154\"\n",
    "        aligned = align_read_sanger(\n",
    "            read_dict[gfp_read_name],\n",
    "            R10_data_high_depth[R10_data_high_depth[\"barcode\"] == barcode_dict[i]][\"reference\"].iloc[0],\n",
    "            cigar_dict[gfp_read_name][4],\n",
    "            startpos=cigar_dict[gfp_read_name][1] + 1,\n",
    "        )\n",
    "        ref_intervals = get_ref_intervals(\"./ref.gfa\")\n",
    "        split_ref = splitstr(\n",
    "            R10_data_high_depth[R10_data_high_depth[\"barcode\"] == barcode_dict[i]][\"reference\"].iloc[0],\n",
    "            ref_intervals,\n",
    "        )\n",
    "        split_consensus = splitstr(\n",
    "            R10_data_high_depth[R10_data_high_depth[\"barcode\"] == barcode_dict[i]][\"consensus\"].iloc[0],\n",
    "            ref_intervals,\n",
    "        )\n",
    "        split_align = splitstr(aligned, ref_intervals)\n",
    "        snp_hamming = slow_hamming_distance(\n",
    "            split_align[\"GFP\"][623:625], split_consensus[\"GFP\"][623:625]\n",
    "        )        \n",
    "        R10_data_high_depth_output_rows.append(output_row)\n",
    "R10_data_high_depth_sanger = pd.concat(R10_data_high_depth_output_rows,axis=0).sort_index()\n",
    "sanger_err_rate = np.sum(R10_data_high_depth_sanger[\"Sanger GFP Hamming\"]>0)/len(R10_data_high_depth_sanger)"
   ]
  },
  {
   "cell_type": "code",
   "execution_count": 149,
   "metadata": {},
   "outputs": [
    {
     "data": {
      "text/plain": [
       "0.010752688172043012"
      ]
     },
     "execution_count": 149,
     "metadata": {},
     "output_type": "execute_result"
    }
   ],
   "source": [
    "sanger_err_rate"
   ]
  },
  {
   "cell_type": "markdown",
   "metadata": {},
   "source": [
    "### Part 4: Read Depth Distributions (lDE15 and lDE20)"
   ]
  },
  {
   "cell_type": "code",
   "execution_count": null,
   "metadata": {},
   "outputs": [],
   "source": []
  },
  {
   "cell_type": "code",
   "execution_count": null,
   "metadata": {},
   "outputs": [],
   "source": []
  },
  {
   "cell_type": "code",
   "execution_count": null,
   "metadata": {},
   "outputs": [],
   "source": []
  },
  {
   "cell_type": "code",
   "execution_count": null,
   "metadata": {},
   "outputs": [],
   "source": []
  }
 ],
 "metadata": {
  "kernelspec": {
   "display_name": "Python 3 (ipykernel)",
   "language": "python",
   "name": "python3"
  },
  "language_info": {
   "codemirror_mode": {
    "name": "ipython",
    "version": 3
   },
   "file_extension": ".py",
   "mimetype": "text/x-python",
   "name": "python",
   "nbconvert_exporter": "python",
   "pygments_lexer": "ipython3",
   "version": "3.11.8"
  }
 },
 "nbformat": 4,
 "nbformat_minor": 4
}
